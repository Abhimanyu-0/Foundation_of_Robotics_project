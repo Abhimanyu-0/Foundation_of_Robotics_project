{
 "cells": [
  {
   "cell_type": "code",
   "execution_count": 2,
   "id": "f69780c0",
   "metadata": {},
   "outputs": [],
   "source": [
    "import numpy as np\n",
    "import math as m \n",
    "import matplotlib.pyplot as plt\n",
    "import time"
   ]
  },
  {
   "cell_type": "markdown",
   "id": "0943330d",
   "metadata": {},
   "source": [
    "## Took the input of angles in degrees and gives out T matrix"
   ]
  },
  {
   "cell_type": "code",
   "execution_count": 429,
   "id": "c1fb217c",
   "metadata": {},
   "outputs": [],
   "source": [
    "# Implementing class/library for forward kinematics \n",
    "class Forward:\n",
    "    \n",
    "    def __init__(self, theta1,theta2,theta3,theta4,theta5,theta6):\n",
    "        self.theta1 = theta1\n",
    "        self.theta2 = theta2\n",
    "        self.theta3 = theta3\n",
    "        self.theta4 = theta4\n",
    "        self.theta5 = theta5\n",
    "        self.theta6 = theta6\n",
    "        \n",
    "    # This is transformation from frame 1 to 0     \n",
    "    def _0T1(self):\n",
    "        x_in = np.radians(self.theta1)\n",
    "        d1 = 1\n",
    "        a1 = 2\n",
    "        \n",
    "        _T1 = np.array([[m.cos(m.pi/2 + x_in ), -m.cos(-m.pi/2)*m.sin(m.pi/2+ x_in), m.sin(-m.pi/2)*m.sin(m.pi/2+x_in), a1*m.cos(m.pi/2)  ],[ m.sin(m.pi/2+x_in) , m.cos(-m.pi/2)*m.cos(m.pi/2+x_in), -m.sin(-m.pi/2)*m.cos(m.pi/2+x_in), a1*m.sin(m.pi/2) ],[ 0 , m.sin(-m.pi/2), m.cos(-m.pi/2), d1 ],[ 0 , 0, 0, 1]])\n",
    "       \n",
    "        return _T1\n",
    "    \n",
    "    # This is transformation from frame 2 to 1    \n",
    "    def _1T2(self):\n",
    "        x_in = np.radians(self.theta2)\n",
    "        a2 = 0\n",
    "        \n",
    "        _T2 = np.array([[m.cos(m.pi/2 + x_in ), -m.cos(0)*m.sin(m.pi/2+ x_in), m.sin(0)*m.sin(m.pi/2+x_in), a2*m.cos(m.pi/2) ],[ m.sin(m.pi/2+x_in) , m.cos(0)*m.cos(m.pi/2+x_in), -m.sin(0)*m.cos(m.pi/2+x_in), a2*m.sin(m.pi/2) ],[ 0 , m.sin(0), m.cos(0), 0 ],[ 0 , 0, 0, 1]]) \n",
    "        return _T2 \n",
    "    \n",
    "    # This is transformation from frame 3 to 2\n",
    "    def _2T3(self):\n",
    "        x_in = np.radians(self.theta3)\n",
    "        a3= 1.5\n",
    "        d3 = 2\n",
    "        \n",
    "        _T3 = np.array([[m.cos(-m.pi/2 + x_in ), -m.cos(m.pi/2)*m.sin(m.pi/2+ x_in), m.sin(m.pi/2)*m.sin(m.pi/2+x_in), a3*m.cos(-m.pi/2) ],[ m.sin(-m.pi/2+x_in) , m.cos(m.pi/2)*m.cos(-m.pi/2+x_in), -m.sin(m.pi/2)*m.cos(-m.pi/2+x_in), a3*m.sin(-m.pi/2) ],[ 0 , m.sin(m.pi/2), m.cos(m.pi/2), d3 ],[ 0 , 0, 0, 1]])\n",
    "        return _T3\n",
    "    \n",
    "    # This is transformation from frame 4 to 3\n",
    "    def _3T4(self):\n",
    "        x_in = np.radians(self.theta4)\n",
    "        d4 = 1.1\n",
    "        a4 = 2\n",
    "        _T4 = np.array([[m.cos( x_in ), -m.cos(-m.pi/2)*m.sin( x_in), m.sin(-m.pi/2)*m.sin(x_in), a4*m.cos(0) ],[ m.sin(x_in) , m.cos(-m.pi/2)*m.cos(x_in), -m.sin(-m.pi/2)*m.cos(x_in), a4*m.sin(0) ],[ 0 , m.sin(-m.pi/2), m.cos(-m.pi/2), d4 ],[ 0 , 0, 0, 1]])\n",
    "        return _T4\n",
    "    \n",
    "    # This is transformation from frame 5 to 4\n",
    "    def _4T5(self):\n",
    "        x_in = np.radians(self.theta5)\n",
    "        a5 = 2\n",
    "        d5 = 0.8\n",
    "        _T5 = np.array([[m.cos(-m.pi + x_in ), -m.cos(m.pi/2)*m.sin(-m.pi+ x_in), m.sin(m.pi/2)*m.sin(-m.pi +x_in), a5*m.cos(-m.pi/2) ],[ m.sin(-m.pi+x_in) , m.cos(m.pi/2)*m.cos(-m.pi+x_in), -m.sin(m.pi/2)*m.cos(-m.pi+x_in), a5*m.sin(-m.pi/2) ],[ 0 , m.sin(m.pi/2), m.cos(m.pi/2), d5 ],[ 0 , 0, 0, 1]])\n",
    "        return _T5\n",
    "    \n",
    "    def _5T6(self):\n",
    "        x_in = 0\n",
    "        a6 = 0\n",
    "        d6 = 10\n",
    "        _T6 = np.array([[m.cos(x_in ), -m.cos(m.pi/2)*m.sin( x_in), m.sin(m.pi/2)*m.sin(x_in), a6*m.cos(x_in) ],[ m.sin(x_in) , m.cos(m.pi/2)*m.cos(x_in), -m.sin(m.pi/2)*m.cos(x_in), a6*m.sin(x_in) ],[ 0 , m.sin(m.pi/2), m.cos(m.pi/2), d6 ],[ 0 , 0, 0, 1]])\n",
    "        return _T6\n",
    "    # need to implement frame 6 which is the end effector frame \n",
    "    #def _end_effector(self):\n",
    "        \n",
    "    def _jointpos(self):\n",
    "        T1 = self._0T1\n",
    "        T2 = self._1T2\n",
    "        T3 = self._2T3\n",
    "        T4 = self._3T4\n",
    "        T5 = self._4T5\n",
    "        T6 = self._5T6\n",
    "        op1 = np.matmul(T1(),T2()) # frame 2 to 0\n",
    "        op2 = np.matmul(op1, T3()) # frame 3 to 0\n",
    "        op3 = np.matmul(op2, T4()) # frame 4 to 0  \n",
    "        op4 = np.matmul(op3, T5()) # frame 5 to 0\n",
    "        op5 = np.matmul(op4, T6()) # frame 6 to 0\n",
    "        return T1()[:,3] ,op1[:,3], op2[:,3], op3[:,3], op4[:,3]\n",
    "    \n",
    "    def _jointsvec(self):\n",
    "        T1 = self._0T1\n",
    "        T2 = self._1T2\n",
    "        T3 = self._2T3\n",
    "        T4 = self._3T4\n",
    "        T5 = self._4T5\n",
    "        T6 = self._5T6\n",
    "        op1 = np.matmul(T1(),T2()) # frame 2 to 0\n",
    "        op2 = np.matmul(op1, T3()) # frame 3 to 0\n",
    "        op3 = np.matmul(op2, T4()) # frame 4 to 0  \n",
    "        op4 = np.matmul(op3, T5()) # frame 5 to 0\n",
    "        op5 = np.matmul(op4, T6()) # frame 6 to 0 \n",
    "        return T1()[:,2], op1[:,2], op2[:,2], op3[:,2], op4[:,2], op5[:,2]\n",
    "        \n",
    "    def _endeff(self):\n",
    "        T1 = self._0T1\n",
    "        T2 = self._1T2\n",
    "        T3 = self._2T3\n",
    "        T4 = self._3T4\n",
    "        T5 = self._4T5\n",
    "        T6 = self._5T6\n",
    "        op1 = np.matmul(T1(),T2()) # frame 2 to 0\n",
    "        op2 = np.matmul(op1, T3()) # frame 3 to 0\n",
    "        op3 = np.matmul(op2, T4()) # frame 4 to 0  \n",
    "        op4 = np.matmul(op3, T5()) # frame 5 to 0\n",
    "        op5 = np.matmul(op4, T6())\n",
    "       \n",
    "        return op5\n",
    "    \n",
    "    def _ori(self):\n",
    "        T1 = self._0T1\n",
    "        T2 = self._1T2\n",
    "        T3 = self._2T3\n",
    "        T4 = self._3T4\n",
    "        T5 = self._4T5\n",
    "        T6 = self._5T6\n",
    "        op1 = np.matmul(T1(),T2()) # frame 2 to 0\n",
    "        op2 = np.matmul(op1, T3()) # frame 3 to 0\n",
    "        op3 = np.matmul(op2, T4()) # frame 4 to 0  \n",
    "        op4 = np.matmul(op3, T5()) # frame 5 to 0\n",
    "        op5 = np.matmul(op4, T6())\n",
    "        theta_x = np.degrees(np.arctan2(op5[2,1],op5[2,2]))\n",
    "        theta_y = np.degrees(np.arctan2(op5[2,0], m.sqrt((op5[2,1])**2+ (op5[2,2])**2)))\n",
    "        theta_z = np.degrees(np.arctan2(op5[1,0],op5[0,0]))\n",
    "        \n",
    "        return theta_x, theta_y, theta_z \n",
    "    \n",
    "    def _Jacobian(self):\n",
    "       \n",
    "        zs =  Forward._jointsvec(self)\n",
    "        end_effector_position = Forward._endeff(self)\n",
    "        p0 = end_effector_position[:,3][:3] \n",
    "        p1 = end_effector_position[:,3][:3] - zs[0][:3] #p6 - p1\n",
    "        p2 = end_effector_position[:,3][:3] - zs[1][:3] #p6 - p2\n",
    "        p3 = end_effector_position[:,3][:3] - zs[2][:3]#p6 - p3\n",
    "        p4 = end_effector_position[:,3][:3] - zs[3][:3] #p6 - p4\n",
    "        p5 = end_effector_position[:,3][:3] - zs[4][:3] \n",
    "        \n",
    "        entry1 = np.cross(zs[0][:3],p0)\n",
    "        entry2 = np.cross(zs[1][:3],p1)\n",
    "        entry3 = np.cross(zs[2][:3],p2)\n",
    "        entry4 = np.cross(zs[3][:3],p3)\n",
    "        entry5 = np.cross(zs[4][:3],p4)\n",
    "        entry6 = np.cross(zs[5][:3],p5)\n",
    "        \n",
    "        e1 = np.expand_dims(entry1,axis=0).transpose()\n",
    "        E1 = np.append(e1,zs[0][:3])\n",
    "\n",
    "        e2 = np.expand_dims(entry2, axis=0).transpose()\n",
    "        E2 = np.append(e2,zs[1][:3])\n",
    "\n",
    "        e3 = np.expand_dims(entry3, axis=0).transpose()\n",
    "        E3 = np.append(e3,zs[2][:3])\n",
    "\n",
    "        e4 = np.expand_dims(entry4, axis=0).transpose()\n",
    "        E4 = np.append(e4,zs[3][:3])\n",
    "\n",
    "        e5 = np.expand_dims(entry5, axis=0).transpose()\n",
    "        E5 = np.append(e5,zs[4][:3])\n",
    "\n",
    "        e6 = np.expand_dims(entry6, axis=0).transpose()\n",
    "        E6 = np.append(e6,zs[5][:3])\n",
    "\n",
    "        J = np.column_stack((E1,E2,E3,E4,E5,E6))\n",
    "        \n",
    "        return J \n",
    "        \n",
    "        \n",
    "    def _Firstori(self):\n",
    "        T1 = self._0T1\n",
    "        T2 = self._1T2\n",
    "        T3 = self._2T3\n",
    "        T4 = self._3T4\n",
    "        T5 = self._4T5\n",
    "        T6 = self._5T6\n",
    "        op1 = np.matmul(T1(),T2()) # frame 2 to 0\n",
    "        op2 = np.matmul(op1, T3()) # frame 3 to 0\n",
    "        op3 = np.matmul(op2, T4()) # frame 4 to 0  \n",
    "        op4 = np.matmul(op3, T5()) # frame 5 to 0\n",
    "        op5 = np.matmul(op4, T6())\n",
    "        theta_x = np.degrees(np.arctan2(T1()[2,1],T1()[2,2]))\n",
    "        theta_y = np.degrees(np.arctan2(T1()[2,0], m.sqrt((T1()[2,1])**2+ (T1()[2,2])**2)))\n",
    "        theta_z = np.degrees(np.arctan2(T1()[1,0],T1()[0,0]))\n",
    "        \n",
    "        return theta_x, theta_y, theta_z , op2\n",
    "    \n",
    "    \n",
    "\n"
   ]
  },
  {
   "cell_type": "code",
   "execution_count": 555,
   "id": "08074373",
   "metadata": {},
   "outputs": [],
   "source": [
    "class Inverse(Forward):\n",
    "    def __init__(self,theta1,theta2,theta3,theta4,theta5,theta6,pos1,pos2,pos3):\n",
    "        self.theta1 = theta1\n",
    "        self.theta2 = theta2\n",
    "        self.theta3 = theta3\n",
    "        self.theta4 = theta4\n",
    "        self.theta5 = theta5\n",
    "        self.theta6 = theta6\n",
    "        self.pos1 = pos1\n",
    "        self.pos2 = pos2\n",
    "        self.pos3 = pos3\n",
    "        \n",
    "           \n",
    "    def _Jacobian(self):\n",
    "        zs =  Forward._jointsvec(self)\n",
    "        end_effector_position = Forward._endeff(self)\n",
    "        Jacobian = Forward._Jacobian(self)\n",
    "        J_inv = np.linalg.inv(Jacobian)\n",
    "\n",
    " \n",
    "        end_effector_position = Forward._endeff(self)[:,3]\n",
    "        current_position = np.array([end_effector_position[0], end_effector_position[1], end_effector_position[2]])\n",
    "        Current_Position = np.expand_dims(current_position, axis =0).transpose()\n",
    "        \n",
    "        desired_pos = np.array([self.pos1,self.pos2,self.pos3])\n",
    "        \n",
    "        \n",
    "        \n",
    "        \n",
    "ex = Inverse(10,10,10,10,10,10,1,2,3)\n",
    "ex._Jacobian()"
   ]
  },
  {
   "cell_type": "code",
   "execution_count": 541,
   "id": "3177dc50",
   "metadata": {},
   "outputs": [
    {
     "data": {
      "text/plain": [
       "array([[-4.44254170e+00, -4.44254170e+00,  2.25138815e+00,\n",
       "        -3.84211287e+00, -3.25755052e+00,  2.86482084e+00],\n",
       "       [ 5.80773635e+00,  5.80773635e+00,  2.80113098e+00,\n",
       "         7.51646030e+00, -3.37430099e+00, -5.72438362e+00],\n",
       "       [-3.58436510e+00, -3.58436510e+00, -1.10167512e-02,\n",
       "        -3.25546506e+00, -2.22150515e-01,  3.38866730e+00],\n",
       "       [-7.94269954e-01, -7.94269954e-01,  7.80970996e-03,\n",
       "        -8.78241781e-01,  6.46442443e-02,  8.78241781e-01],\n",
       "       [-6.07565009e-01, -6.07565009e-01, -1.02096366e-02,\n",
       "        -4.74543744e-01, -1.31169234e-01,  4.74543744e-01],\n",
       "       [ 6.12323400e-17,  6.12323400e-17, -9.99917382e-01,\n",
       "        -5.91574988e-02,  1.04443864e+00,  5.91574988e-02]])"
      ]
     },
     "execution_count": 541,
     "metadata": {},
     "output_type": "execute_result"
    }
   ],
   "source": [
    "\n",
    "# Instantiation of class \n",
    "test = Forward(st1,st2,st3,st4,st5,st6)\n",
    "\n",
    "# Function to get final position of frame 5 based on forward kinematics \n",
    "joint = test._jointpos()\n",
    "end = test._endeff()[:,3]\n",
    "oi = test._ori()\n",
    "test._Firstori()\n",
    "# = test._jointsvec()\n",
    "#rint(J.shape)\n",
    "cobian = test._Jacobian()\n",
    "cobian"
   ]
  },
  {
   "cell_type": "code",
   "execution_count": 6,
   "id": "c36e5df3",
   "metadata": {},
   "outputs": [
    {
     "name": "stdout",
     "output_type": "stream",
     "text": [
      "One step done next 0\n",
      "One step done next 1\n",
      "One step done next 2\n",
      "One step done next 3\n",
      "One step done next 4\n",
      "One step done next 5\n",
      "One step done next 6\n",
      "One step done next 7\n",
      "One step done next 8\n",
      "One step done next 9\n",
      "One step done next 10\n",
      "One step done next 11\n",
      "One step done next 12\n",
      "One step done next 13\n",
      "One step done next 14\n",
      "One step done next 15\n",
      "One step done next 16\n",
      "One step done next 17\n",
      "One step done next 18\n",
      "One step done next 19\n",
      "One step done next 20\n",
      "One step done next 21\n",
      "One step done next 22\n",
      "One step done next 23\n",
      "One step done next 24\n",
      "One step done next 25\n",
      "One step done next 26\n",
      "One step done next 27\n",
      "One step done next 28\n",
      "One step done next 29\n",
      "One step done next 30\n",
      "One step done next 31\n",
      "One step done next 32\n",
      "One step done next 33\n",
      "One step done next 34\n",
      "One step done next 35\n",
      "One step done next 36\n",
      "One step done next 37\n",
      "One step done next 38\n",
      "One step done next 39\n",
      "One step done next 40\n",
      "One step done next 41\n",
      "One step done next 42\n",
      "One step done next 43\n",
      "One step done next 44\n",
      "One step done next 45\n",
      "One step done next 46\n",
      "One step done next 47\n",
      "One step done next 48\n",
      "One step done next 49\n",
      "One step done next 50\n",
      "One step done next 51\n",
      "One step done next 52\n",
      "One step done next 53\n",
      "One step done next 54\n",
      "One step done next 55\n",
      "One step done next 56\n",
      "One step done next 57\n",
      "One step done next 58\n",
      "One step done next 59\n",
      "One step done next 60\n",
      "One step done next 61\n",
      "One step done next 62\n",
      "One step done next 63\n",
      "One step done next 64\n",
      "One step done next 65\n",
      "One step done next 66\n",
      "One step done next 67\n",
      "One step done next 68\n",
      "One step done next 69\n",
      "One step done next 70\n",
      "One step done next 71\n",
      "0.014693737030029297\n"
     ]
    }
   ],
   "source": [
    "# Trying to plot workspace of the robot\n",
    "\n",
    "list1 = []\n",
    "list2 = []\n",
    "list3 = []\n",
    "list4 = []\n",
    "list5 = []\n",
    "list6 = []\n",
    "a1 = np.arange(1,360,5)\n",
    "a2 = np.arange(1,360,5)\n",
    "a3 = np.arange(1,360,5)\n",
    "a4 = np.arange(1,360,5)\n",
    "a5 = np.arange(1,360,5)\n",
    "a6 = np.arange(1,360,5)\n",
    "tic = time.time()\n",
    "for i in range(72):\n",
    "    test = Forward(a1[i],a2[i],a3[i],a4[i],a5[i])\n",
    "    j = test._jointpos()\n",
    "    f = test._endeff()[:,3][:3]\n",
    "    j1 = j[0][:3]\n",
    "    j2 = j[1][:3]\n",
    "    j3 = j[2][:3]\n",
    "    j4 = j[3][:3]\n",
    "    j5 = j[4][:3]\n",
    "    list1.insert(i,j1)\n",
    "    list2.insert(i,j2)\n",
    "    list3.insert(i,j3)\n",
    "    list4.insert(i,j4)\n",
    "    list5.insert(i,j5)\n",
    "    list6.insert(i,f)\n",
    "    \n",
    "    print('One step done next',i)\n",
    "    \n",
    "toc = time.time()\n",
    "print(toc-tic)"
   ]
  },
  {
   "cell_type": "code",
   "execution_count": 7,
   "id": "4f47ae99",
   "metadata": {},
   "outputs": [
    {
     "data": {
      "image/png": "[encoded data removed]",
      "text/plain": [
       "<Figure size 640x480 with 1 Axes>"
      ]
     },
     "metadata": {},
     "output_type": "display_data"
    }
   ],
   "source": [
    "plt.figure()\n",
    "ax = plt.axes(projection='3d')\n",
    "\n",
    "ax.plot3D(10, 10, 10, 'blue')\n",
    "for i in range(72):\n",
    "    ax.scatter3D(list6[i][0],list6[i][1],list6[i][2])\n",
    "    plt.suptitle('Workspace analysis for end-effector')\n",
    "    plt.xlabel('X coordinate')\n",
    "    plt.ylabel('Y coordinate')\n",
    "    ax.set_zlabel('Z coordinate')\n",
    "\n",
    "\n"
   ]
  },
  {
   "cell_type": "code",
   "execution_count": 16,
   "id": "d29bb5aa",
   "metadata": {},
   "outputs": [
    {
     "data": {
      "text/plain": [
       "array([1.2246468e-16, 2.0000000e+00, 1.0000000e+00, 1.0000000e+00])"
      ]
     },
     "execution_count": 16,
     "metadata": {},
     "output_type": "execute_result"
    }
   ],
   "source": [
    "j[0]"
   ]
  },
  {
   "cell_type": "markdown",
   "id": "b335542c",
   "metadata": {},
   "source": [
    "# Inverse kinematics using Newton-Raphson method"
   ]
  },
  {
   "cell_type": "markdown",
   "id": "6e5a3744",
   "metadata": {},
   "source": [
    "### Finding the jacobian using geometric method"
   ]
  },
  {
   "cell_type": "code",
   "execution_count": 6,
   "id": "31f9194f",
   "metadata": {},
   "outputs": [
    {
     "data": {
      "text/plain": [
       "3.8797372137136786e-17"
      ]
     },
     "execution_count": 6,
     "metadata": {},
     "output_type": "execute_result"
    }
   ],
   "source": [
    "# First finding jacobian\n",
    "\n",
    "jangles = test._jointsvec()\n",
    "z0 = jangles[0][:3]\n",
    "z1 = jangles[1][:3]\n",
    "z2 = jangles[2][:3]\n",
    "z3 = jangles[3][:3]\n",
    "z4 = jangles[4][:3]\n",
    "z5 = jangles[5][:3]\n",
    "\n",
    "# joint positions (P)\n",
    "p0 = end[:3] \n",
    "p1 = end[:3] - joint[0][:3] #p6 - p1\n",
    "p2 = end[:3] - joint[1][:3] #p6 - p2\n",
    "p3 = end[:3] - joint[2][:3]#p6 - p3\n",
    "p4 = end[:3] - joint[3][:3] #p6 - p4\n",
    "p5 = end[:3] - joint[4][:3] #p6 - p5\n",
    "\n",
    "entry1 = np.cross(z0,p0)\n",
    "entry2 = np.cross(z1,p1)\n",
    "entry3 = np.cross(z2,p2)\n",
    "entry4 = np.cross(z3,p3)\n",
    "entry5 = np.cross(z4,p4)\n",
    "entry6 = np.cross(z5,p5)\n",
    "\n",
    "# Stacking the vectors to find the jacobian matrix\n",
    "e1 = np.expand_dims(entry1,axis=0).transpose()\n",
    "E1 = np.append(e1,z0)\n",
    "\n",
    "e2 = np.expand_dims(entry2, axis=0).transpose()\n",
    "E2 = np.append(e2,z1)\n",
    "\n",
    "e3 = np.expand_dims(entry3, axis=0).transpose()\n",
    "E3 = np.append(e3,z2)\n",
    "\n",
    "e4 = np.expand_dims(entry4, axis=0).transpose()\n",
    "E4 = np.append(e4,z3)\n",
    "\n",
    "e5 = np.expand_dims(entry5, axis=0).transpose()\n",
    "E5 = np.append(e5,z4)\n",
    "\n",
    "e6 = np.expand_dims(entry6, axis=0).transpose()\n",
    "E6 = np.append(e6,z5)\n",
    "\n",
    "J = np.column_stack((E1,E2,E3,E4,E5,E6))\n",
    "\n",
    "J[2,2]\n"
   ]
  },
  {
   "cell_type": "code",
   "execution_count": 582,
   "id": "f6dfeee7",
   "metadata": {},
   "outputs": [
    {
     "name": "stdout",
     "output_type": "stream",
     "text": [
      "[[1]\n",
      " [1]\n",
      " [1]]\n"
     ]
    }
   ],
   "source": [
    "# Implementing the Newton-Raphson method, now that I have the jacobian matrix\n",
    "posori = np.array([1,1,1])\n",
    "POSORI = np.expand_dims(posori, axis =0).transpose()\n",
    "print(POSORI)\n",
    "st1 = 1\n",
    "st2 = 1\n",
    "st3 = 1\n",
    "st4 = 1\n",
    "st5 = 1\n",
    "st6 = 1\n",
    "j=0"
   ]
  },
  {
   "cell_type": "code",
   "execution_count": 597,
   "id": "d83eab54",
   "metadata": {},
   "outputs": [],
   "source": [
    "Error_P = [500]\n",
    "#while Err_theta>3:\n",
    "\n",
    "\n",
    "#for j in range(200):\n",
    "for i in range(0,20):\n",
    "\n",
    "\n",
    "    test2 = Forward(st1,st2,st3,st4,st5,st6)\n",
    "    end2  = test2._endeff()[:,3]\n",
    "    joint2 = test2._jointpos()\n",
    "    ori =test2._ori()\n",
    "    orientation = np.array(ori)\n",
    "    OR = np.expand_dims(orientation,axis=0).transpose()\n",
    "\n",
    "\n",
    "    jangles = test2._jointsvec()\n",
    "    z0 = jangles[0][:3]\n",
    "    z1 = jangles[1][:3]\n",
    "    z2 = jangles[2][:3]\n",
    "    z3 = jangles[3][:3]\n",
    "    z4 = jangles[4][:3]\n",
    "    z5 = jangles[5][:3]\n",
    "\n",
    "    # joint positions (P)\n",
    "    p0 = end2[:3] \n",
    "    p1 = end2[:3] - joint2[0][:3] #p6 - p1\n",
    "    p2 = end2[:3] - joint2[1][:3] #p6 - p2\n",
    "    p3 = end2[:3] - joint2[2][:3]#p6 - p3\n",
    "    p4 = end2[:3] - joint2[3][:3] #p6 - p4\n",
    "    p5 = end2[:3] - joint2[4][:3] #p6 - p5\n",
    "\n",
    "    entry1 = np.cross(z0,p0)\n",
    "    entry2 = np.cross(z1,p1)\n",
    "    entry3 = np.cross(z2,p2)\n",
    "    entry4 = np.cross(z3,p3)\n",
    "    entry5 = np.cross(z4,p4)\n",
    "    entry6 = np.cross(z5,p5)\n",
    "\n",
    "    # Stacking the vectors to find the jacobian matrix\n",
    "    e1 = np.expand_dims(entry1,axis=0).transpose()\n",
    "    E1 = np.append(e1,z0)\n",
    "\n",
    "    e2 = np.expand_dims(entry2, axis=0).transpose()\n",
    "    E2 = np.append(e2,z1)\n",
    "\n",
    "    e3 = np.expand_dims(entry3, axis=0).transpose()\n",
    "    E3 = np.append(e3,z2)\n",
    "\n",
    "    e4 = np.expand_dims(entry4, axis=0).transpose()\n",
    "    E4 = np.append(e4,z3)\n",
    "\n",
    "    e5 = np.expand_dims(entry5, axis=0).transpose()\n",
    "    E5 = np.append(e5,z4)\n",
    "\n",
    "    e6 = np.expand_dims(entry6, axis=0).transpose()\n",
    "    E6 = np.append(e6,z5)\n",
    "\n",
    "    J1 = np.column_stack((E1,E2,E3,E4,E5,E6))\n",
    "    J_inv = np.linalg.inv(J1)\n",
    "\n",
    "    End2 = np.expand_dims(end2[:3],axis=0).transpose()\n",
    "    #err_theta = np.subtract(POSORI[3:6], OR)\n",
    "    #Err_theta = np.linalg.norm(err_theta)\n",
    "    #Error_theta.insert(i,Err_theta)\n",
    "    \n",
    "    err_P = np.subtract(POSORI[0:3],End2)\n",
    "    Err_P = np.linalg.norm(err_P)\n",
    "    Error_P.insert(i,Err_P)\n",
    "    alpha = 1\n",
    "    if (Error_P[i]<Error_P[i-1]): \n",
    "        err_P = np.subtract(POSORI[0:3],End2)\n",
    "        Err_P = np.linalg.norm(err_P)\n",
    "        Jv = J1[0:3]\n",
    "\n",
    "        U, D, Vt = np.linalg.svd(Jv, full_matrices=False)\n",
    "        threshold = 1e-10\n",
    "        D_inv = np.where(D > threshold, 1 / D, 0)\n",
    "        Jv_pseudo = Vt.T @ np.diag(D_inv) @ U.T\n",
    "\n",
    "        ERR = np.expand_dims(Err_P, axis =0).transpose()\n",
    "        norm_error = np.linalg.norm(ERR)\n",
    "\n",
    "        D_theta = Jv_pseudo@err_P\n",
    "\n",
    "        st1 = st1 + alpha*(D_theta[0][0])\n",
    "        st2 = st2 + alpha*(D_theta[1][0])\n",
    "        st3 = st3 + alpha*(D_theta[2][0])\n",
    "        st4 = st4 + alpha*(D_theta[3][0])\n",
    "        st5 = st5 + alpha*(D_theta[4][0])\n",
    "        st6 = st6 + alpha*(D_theta[5][0])\n",
    "        #print(\"st1: \",st1)\n",
    "\n",
    "        if norm_error<0.5:\n",
    "            print(\"\"\"\n",
    "            YESSSSS\n",
    "\n",
    "            \"\"\")\n",
    "            print(\"st1: \",st1)\n",
    "            print(\"st2: \",st2)\n",
    "            print(\"st3: \",st3)\n",
    "            print(\"st4: \",st4)\n",
    "            print(\"st5: \",st5)\n",
    "            print(\"st6: \",st6)\n",
    "            print(\"  \",i,  norm_error)\n",
    "       # Error_theta.insert(i,Err_theta[i])\n",
    "\n",
    "    else:\n",
    "        st1 = st1 + alpha*(D_theta[0][0])/2\n",
    "        st2 = st2 + alpha*(D_theta[1][0])/2\n",
    "        st3 = st3 + alpha*(D_theta[2][0])/2\n",
    "        st4 = st4 + alpha*(D_theta[3][0])/2\n",
    "        st5 = st5 + alpha*(D_theta[4][0])/2\n",
    "        st6 = st6 + alpha*(D_theta[5][0])/2\n",
    "        print(\"Changes made and result is: \", norm_error)\n",
    "        #print(\"st1: \",st1)\n",
    "        if norm_error<2:\n",
    "            print(\"\"\"\n",
    "            YESSSSS\n",
    "            \"\"\")\n",
    "            print(\"st1: \",st1)\n",
    "            print(\"st2: \",st2)\n",
    "            print(\"st3: \",st3)\n",
    "            print(\"st4: \",st4)\n",
    "            print(\"st5: \",st5)\n",
    "       # print(\"st6: \",st6)\n",
    "            print(\"  \",i,  norm_error)\n",
    "       # print(\"\"\"\n",
    "       # Something went wrong\n",
    "        #The following entry in the list is best\n",
    "        #\"\"\",i-1)#Error_theta.insert(i,Err_theta[i])\n",
    "\n",
    "\n"
   ]
  },
  {
   "cell_type": "code",
   "execution_count": 598,
   "id": "c8dde7a2",
   "metadata": {},
   "outputs": [
    {
     "name": "stdout",
     "output_type": "stream",
     "text": [
      "8.896312201160123\n",
      "[[-2.17566977]\n",
      " [ 6.27246981]\n",
      " [ 7.4234379 ]]\n",
      "16.230249997511308\n"
     ]
    }
   ],
   "source": [
    "print(norm_error)\n",
    "err_P\n",
    "print(End2)\n",
    "print(st1)"
   ]
  },
  {
   "cell_type": "code",
   "execution_count": 577,
   "id": "4f8fca69",
   "metadata": {},
   "outputs": [
    {
     "data": {
      "text/plain": [
       "array([3, 3, 3])"
      ]
     },
     "execution_count": 577,
     "metadata": {},
     "output_type": "execute_result"
    }
   ],
   "source": [
    "posori"
   ]
  },
  {
   "cell_type": "code",
   "execution_count": 261,
   "id": "1b344f4f",
   "metadata": {},
   "outputs": [
    {
     "data": {
      "text/plain": [
       "1990"
      ]
     },
     "execution_count": 261,
     "metadata": {},
     "output_type": "execute_result"
    }
   ],
   "source": [
    "Min = (min(Error_theta))\n",
    "Error_theta.index(Min)"
   ]
  },
  {
   "cell_type": "markdown",
   "id": "62545b20",
   "metadata": {},
   "source": [
    "# Plotting delta(theta) vs time to inspect the function"
   ]
  },
  {
   "cell_type": "code",
   "execution_count": 556,
   "id": "bbe70168",
   "metadata": {},
   "outputs": [
    {
     "data": {
      "text/plain": [
       "array([0.02314877])"
      ]
     },
     "execution_count": 556,
     "metadata": {},
     "output_type": "execute_result"
    },
    {
     "data": {
      "image/png": "[encoded data removed]",
      "text/plain": [
       "<Figure size 640x480 with 1 Axes>"
      ]
     },
     "metadata": {},
     "output_type": "display_data"
    }
   ],
   "source": [
    "plt.figure()\n",
    "theta = np.array([np.linspace(0,6,6)]).transpose()\n",
    "time = np.linspace(0,30,45)\n",
    "plt.xlabel('thetas')\n",
    "plt.ylabel('Delta_theta')\n",
    "plt.plot(theta,D_theta)\n",
    "D_theta[3]"
   ]
  },
  {
   "cell_type": "code",
   "execution_count": 166,
   "id": "36bd617d",
   "metadata": {},
   "outputs": [
    {
     "ename": "NameError",
     "evalue": "name 'theta' is not defined",
     "output_type": "error",
     "traceback": [
      "\u001b[0;31m---------------------------------------------------------------------------\u001b[0m",
      "\u001b[0;31mNameError\u001b[0m                                 Traceback (most recent call last)",
      "Cell \u001b[0;32mIn[166], line 1\u001b[0m\n\u001b[0;32m----> 1\u001b[0m theta\u001b[38;5;241m.\u001b[39mtranspose()\n",
      "\u001b[0;31mNameError\u001b[0m: name 'theta' is not defined"
     ]
    }
   ],
   "source": [
    "theta.transpose()"
   ]
  },
  {
   "cell_type": "code",
   "execution_count": 171,
   "id": "bca8a141",
   "metadata": {},
   "outputs": [
    {
     "data": {
      "text/plain": [
       "array([[-0.47260128,  2.3814466 ,  0.10514008],\n",
       "       [-0.47260128,  2.3814466 ,  0.10514008],\n",
       "       [ 0.43077529, -4.66148846, -0.7023383 ],\n",
       "       [ 0.39923846, -6.99879405, -0.30586479],\n",
       "       [ 0.42328956, -4.51700755,  0.29825621],\n",
       "       [ 0.4466734 , -2.10241502, -0.09669824]])"
      ]
     },
     "execution_count": 171,
     "metadata": {},
     "output_type": "execute_result"
    }
   ],
   "source": [
    "np.linalg.pinv(Jw)"
   ]
  },
  {
   "cell_type": "code",
   "execution_count": 424,
   "id": "bc4050ac",
   "metadata": {},
   "outputs": [
    {
     "data": {
      "text/plain": [
       "(3, 6)"
      ]
     },
     "execution_count": 424,
     "metadata": {},
     "output_type": "execute_result"
    }
   ],
   "source": [
    "Jv = J1[0:3]\n",
    "Jv.shape"
   ]
  },
  {
   "cell_type": "code",
   "execution_count": 458,
   "id": "4e785266",
   "metadata": {},
   "outputs": [
    {
     "data": {
      "text/plain": [
       "array([[ 0.00068555],\n",
       "       [-0.0028348 ],\n",
       "       [-0.01572786],\n",
       "       [ 0.00279028],\n",
       "       [-0.00258996],\n",
       "       [ 0.00113523]])"
      ]
     },
     "execution_count": 458,
     "metadata": {},
     "output_type": "execute_result"
    }
   ],
   "source": [
    "D_theta"
   ]
  },
  {
   "cell_type": "code",
   "execution_count": 529,
   "id": "248319f4",
   "metadata": {},
   "outputs": [],
   "source": [
    "T1 = test._endeff()\n",
    "T1_inv = np.linalg.inv(T1)"
   ]
  }
 ],
 "metadata": {
  "kernelspec": {
   "display_name": "Python 3 (ipykernel)",
   "language": "python",
   "name": "python3"
  },
  "language_info": {
   "codemirror_mode": {
    "name": "ipython",
    "version": 3
   },
   "file_extension": ".py",
   "mimetype": "text/x-python",
   "name": "python",
   "nbconvert_exporter": "python",
   "pygments_lexer": "ipython3",
   "version": "3.11.5"
  }
 },
 "nbformat": 4,
 "nbformat_minor": 5
}
