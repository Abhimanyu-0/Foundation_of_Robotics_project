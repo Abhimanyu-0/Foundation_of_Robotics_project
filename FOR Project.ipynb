{
 "cells": [
  {
   "cell_type": "code",
   "execution_count": 51,
   "id": "f69780c0",
   "metadata": {},
   "outputs": [],
   "source": [
    "import numpy as np\n",
    "import math as m \n",
    "import matplotlib.pyplot as plt\n",
    "import time\n",
    "import scipy"
   ]
  },
  {
   "cell_type": "markdown",
   "id": "0943330d",
   "metadata": {},
   "source": [
    "## Took the input of angles in degrees and gives out T matrix"
   ]
  },
  {
   "cell_type": "code",
   "execution_count": 66,
   "id": "c1fb217c",
   "metadata": {},
   "outputs": [],
   "source": [
    "# Implementing class/library for forward kinematics \n",
    "class Forward:\n",
    "    \n",
    "    def __init__(self, theta1,theta2,theta3,theta4,theta5,theta6):\n",
    "        self.theta1 = theta1\n",
    "        self.theta2 = theta2\n",
    "        self.theta3 = theta3\n",
    "        self.theta4 = theta4\n",
    "        self.theta5 = theta5\n",
    "        self.theta6 = theta6\n",
    "        \n",
    "    # This is transformation from frame 1 to 0     \n",
    "\n",
    "    def _0T1(self):\n",
    "        x_in = np.radians(self.theta1)\n",
    "        d1 = 1\n",
    "        a1 = 2\n",
    "        \n",
    "        _T1 = np.array([[m.cos(m.pi/2 + x_in ), -m.cos(-m.pi/2)*m.sin(m.pi/2+ x_in), m.sin(-m.pi/2)*m.sin(m.pi/2+x_in), a1*m.cos(m.pi/2)  ],[ m.sin(m.pi/2+x_in) , m.cos(-m.pi/2)*m.cos(m.pi/2+x_in), -m.sin(-m.pi/2)*m.cos(m.pi/2+x_in), a1*m.sin(m.pi/2) ],[ 0 , m.sin(-m.pi/2), m.cos(-m.pi/2), d1 ],[ 0 , 0, 0, 1]])\n",
    "       \n",
    "        return _T1\n",
    "    \n",
    "    # This is transformation from frame 2 to 1    \n",
    "    def _1T2(self):\n",
    "        x_in = np.radians(self.theta2)\n",
    "        a2 = 0\n",
    "        \n",
    "        _T2 = np.array([[m.cos(m.pi/2 + x_in ), -m.cos(0)*m.sin(m.pi/2+ x_in), m.sin(0)*m.sin(m.pi/2+x_in), a2*m.cos(m.pi/2) ],[ m.sin(m.pi/2+x_in) , m.cos(0)*m.cos(m.pi/2+x_in), -m.sin(0)*m.cos(m.pi/2+x_in), a2*m.sin(m.pi/2) ],[ 0 , m.sin(0), m.cos(0), 0 ],[ 0 , 0, 0, 1]]) \n",
    "        return _T2 \n",
    "    \n",
    "    # This is transformation from frame 3 to 2\n",
    "    def _2T3(self):\n",
    "        x_in = np.radians(self.theta3)\n",
    "        a3= 1.5\n",
    "        d3 = 2\n",
    "        \n",
    "        _T3 = np.array([[m.cos(-m.pi/2 + x_in ), -m.cos(m.pi/2)*m.sin(m.pi/2+ x_in), m.sin(m.pi/2)*m.sin(m.pi/2+x_in), a3*m.cos(-m.pi/2) ],[ m.sin(-m.pi/2+x_in) , m.cos(m.pi/2)*m.cos(-m.pi/2+x_in), -m.sin(m.pi/2)*m.cos(-m.pi/2+x_in), a3*m.sin(-m.pi/2) ],[ 0 , m.sin(m.pi/2), m.cos(m.pi/2), d3 ],[ 0 , 0, 0, 1]])\n",
    "        return _T3\n",
    "    \n",
    "    # This is transformation from frame 4 to 3\n",
    "    def _3T4(self):\n",
    "        x_in = np.radians(self.theta4)\n",
    "        d4 = 1.1\n",
    "        a4 = 2\n",
    "        _T4 = np.array([[m.cos( x_in ), -m.cos(-m.pi/2)*m.sin( x_in), m.sin(-m.pi/2)*m.sin(x_in), a4*m.cos(0) ],[ m.sin(x_in) , m.cos(-m.pi/2)*m.cos(x_in), -m.sin(-m.pi/2)*m.cos(x_in), a4*m.sin(0) ],[ 0 , m.sin(-m.pi/2), m.cos(-m.pi/2), d4 ],[ 0 , 0, 0, 1]])\n",
    "        return _T4\n",
    "    \n",
    "    # This is transformation from frame 5 to 4\n",
    "    def _4T5(self):\n",
    "        x_in = np.radians(self.theta5)\n",
    "        a5 = 2\n",
    "        d5 = 0.8\n",
    "        _T5 = np.array([[m.cos(-m.pi + x_in ), -m.cos(m.pi/2)*m.sin(-m.pi+ x_in), m.sin(m.pi/2)*m.sin(-m.pi +x_in), a5*m.cos(-m.pi/2) ],[ m.sin(-m.pi+x_in) , m.cos(m.pi/2)*m.cos(-m.pi+x_in), -m.sin(m.pi/2)*m.cos(-m.pi+x_in), a5*m.sin(-m.pi/2) ],[ 0 , m.sin(m.pi/2), m.cos(m.pi/2), d5 ],[ 0 , 0, 0, 1]])\n",
    "        return _T5\n",
    "    \n",
    "    def _5T6(self):\n",
    "        x_in = self.theta6\n",
    "        a6 = 0\n",
    "        d6 = 10\n",
    "        _T6 = np.array([[m.cos(x_in ), -m.cos(m.pi/2)*m.sin( x_in), m.sin(m.pi/2)*m.sin(x_in), a6*m.cos(x_in) ],[ m.sin(x_in) , m.cos(m.pi/2)*m.cos(x_in), -m.sin(m.pi/2)*m.cos(x_in), a6*m.sin(x_in) ],[ 0 , m.sin(m.pi/2), m.cos(m.pi/2), d6 ],[ 0 , 0, 0, 1]])\n",
    "        return _T6\n",
    "\n",
    "    \n",
    "        \n",
    "    def _jointpos(self):\n",
    "        T1 = self._0T1\n",
    "        T2 = self._1T2\n",
    "        T3 = self._2T3\n",
    "        T4 = self._3T4\n",
    "        T5 = self._4T5\n",
    "        T6 = self._5T6\n",
    "        op1 = np.matmul(T1(),T2()) # frame 2 to 0\n",
    "        op2 = np.matmul(op1, T3()) # frame 3 to 0\n",
    "        op3 = np.matmul(op2, T4()) # frame 4 to 0  \n",
    "        op4 = np.matmul(op3, T5()) # frame 5 to 0\n",
    "        op5 = np.matmul(op4, T6()) # frame 6 to 0\n",
    "        return T1()[:,3] ,op1[:,3], op2[:,3], op3[:,3], op4[:,3]\n",
    "    \n",
    "    def _jointsvec(self):\n",
    "        T1 = self._0T1\n",
    "        T2 = self._1T2\n",
    "        T3 = self._2T3\n",
    "        T4 = self._3T4\n",
    "        T5 = self._4T5\n",
    "        T6 = self._5T6\n",
    "        op1 = np.matmul(T1(),T2()) # frame 2 to 0\n",
    "        op2 = np.matmul(op1, T3()) # frame 3 to 0\n",
    "        op3 = np.matmul(op2, T4()) # frame 4 to 0  \n",
    "        op4 = np.matmul(op3, T5()) # frame 5 to 0\n",
    "        op5 = np.matmul(op4, T6()) # frame 6 to 0 \n",
    "        return T1()[:,2], op1[:,2], op2[:,2], op3[:,2], op4[:,2], op5[:,2]\n",
    "        \n",
    "    def _endeff(self):\n",
    "        T1 = self._0T1\n",
    "        T2 = self._1T2\n",
    "        T3 = self._2T3\n",
    "        T4 = self._3T4\n",
    "        T5 = self._4T5\n",
    "        T6 = self._5T6\n",
    "        op1 = np.matmul(T1(),T2()) # frame 2 to 0\n",
    "        op2 = np.matmul(op1, T3()) # frame 3 to 0\n",
    "        op3 = np.matmul(op2, T4()) # frame 4 to 0  \n",
    "        op4 = np.matmul(op3, T5()) # frame 5 to 0\n",
    "        op5 = np.matmul(op4, T6())\n",
    "       \n",
    "        return op5\n",
    "    \n",
    "    def _ori(self):\n",
    "        T1 = self._0T1\n",
    "        T2 = self._1T2\n",
    "        T3 = self._2T3\n",
    "        T4 = self._3T4\n",
    "        T5 = self._4T5\n",
    "        T6 = self._5T6\n",
    "        op1 = np.matmul(T1(),T2()) # frame 2 to 0\n",
    "        op2 = np.matmul(op1, T3()) # frame 3 to 0\n",
    "        op3 = np.matmul(op2, T4()) # frame 4 to 0  \n",
    "        op4 = np.matmul(op3, T5()) # frame 5 to 0\n",
    "        op5 = np.matmul(op4, T6())\n",
    "        theta_x = np.degrees(np.arctan2(op5[2,1],op5[2,2]))\n",
    "        theta_y = np.degrees(np.arctan2(op5[2,0], m.sqrt((op5[2,1])**2+ (op5[2,2])**2)))\n",
    "        theta_z = np.degrees(np.arctan2(op5[1,0],op5[0,0]))\n",
    "        \n",
    "        return np.array([theta_x, theta_y, theta_z]) \n",
    "    \n",
    "    def _Jacobian(self):\n",
    "       \n",
    "        zs =  Forward._jointsvec(self)\n",
    "        end_effector_position = Forward._endeff(self)\n",
    "        p0 = end_effector_position[:,3][:3] \n",
    "        p1 = end_effector_position[:,3][:3] - zs[0][:3] #p6 - p1\n",
    "        p2 = end_effector_position[:,3][:3] - zs[1][:3] #p6 - p2\n",
    "        p3 = end_effector_position[:,3][:3] - zs[2][:3]#p6 - p3\n",
    "        p4 = end_effector_position[:,3][:3] - zs[3][:3] #p6 - p4\n",
    "        p5 = end_effector_position[:,3][:3] - zs[4][:3] \n",
    "        \n",
    "        entry1 = np.cross(zs[0][:3],p0)\n",
    "        entry2 = np.cross(zs[1][:3],p1)\n",
    "        entry3 = np.cross(zs[2][:3],p2)\n",
    "        entry4 = np.cross(zs[3][:3],p3)\n",
    "        entry5 = np.cross(zs[4][:3],p4)\n",
    "        entry6 = np.cross(zs[5][:3],p5)\n",
    "        \n",
    "        e1 = np.expand_dims(entry1,axis=0).transpose()\n",
    "        E1 = np.append(e1,zs[0][:3])\n",
    "\n",
    "        e2 = np.expand_dims(entry2, axis=0).transpose()\n",
    "        E2 = np.append(e2,zs[1][:3])\n",
    "\n",
    "        e3 = np.expand_dims(entry3, axis=0).transpose()\n",
    "        E3 = np.append(e3,zs[2][:3])\n",
    "\n",
    "        e4 = np.expand_dims(entry4, axis=0).transpose()\n",
    "        E4 = np.append(e4,zs[3][:3])\n",
    "\n",
    "        e5 = np.expand_dims(entry5, axis=0).transpose()\n",
    "        E5 = np.append(e5,zs[4][:3])\n",
    "\n",
    "        e6 = np.expand_dims(entry6, axis=0).transpose()\n",
    "        E6 = np.append(e6,zs[5][:3])\n",
    "\n",
    "        J = np.column_stack((E1,E2,E3,E4,E5,E6))\n",
    "        \n",
    "        return J \n",
    "        \n",
    "        \n",
    "    def _Firstori(self):\n",
    "        T1 = self._0T1\n",
    "        T2 = self._1T2\n",
    "        T3 = self._2T3\n",
    "        T4 = self._3T4\n",
    "        T5 = self._4T5\n",
    "        T6 = self._5T6\n",
    "        op1 = np.matmul(T1(),T2()) # frame 2 to 0\n",
    "        op2 = np.matmul(op1, T3()) # frame 3 to 0\n",
    "        op3 = np.matmul(op2, T4()) # frame 4 to 0  \n",
    "        op4 = np.matmul(op3, T5()) # frame 5 to 0\n",
    "        op5 = np.matmul(op4, T6())\n",
    "        theta_x = np.degrees(np.arctan2(T1()[2,1],T1()[2,2]))\n",
    "        theta_y = np.degrees(np.arctan2(T1()[2,0], m.sqrt((T1()[2,1])**2+ (T1()[2,2])**2)))\n",
    "        theta_z = np.degrees(np.arctan2(T1()[1,0],T1()[0,0]))\n",
    "        \n",
    "        return theta_x, theta_y, theta_z , op2\n",
    "    \n",
    "    \n",
    "\n"
   ]
  },
  {
   "cell_type": "code",
   "execution_count": 27,
   "id": "08074373",
   "metadata": {},
   "outputs": [],
   "source": [
    "class Inverse(Forward):\n",
    "    def __init__(self,theta1,theta2,theta3,theta4,theta5,theta6,theta7,pos1,pos2,pos3):\n",
    "        self.theta1 = theta1\n",
    "        self.theta2 = theta2\n",
    "        self.theta3 = theta3\n",
    "        self.theta4 = theta4\n",
    "        self.theta5 = theta5\n",
    "        self.theta6 = theta6\n",
    "        self.theta7 = theta7\n",
    "        self.pos1 = pos1\n",
    "        self.pos2 = pos2\n",
    "        self.pos3 = pos3\n",
    "        \n",
    "           \n",
    "    def _Jacobian(self):\n",
    "        zs =  Forward._jointsvec(self)\n",
    "        end_effector_position = Forward._endeff(self)\n",
    "        Jacobian = Forward._Jacobian(self)\n",
    "        J_inv = np.linalg.inv(Jacobian)\n",
    "\n",
    " \n",
    "        end_effector_position = Forward._endeff(self)[:,3]\n",
    "        current_position = np.array([end_effector_position[0], end_effector_position[1], end_effector_position[2]])\n",
    "        Current_Position = np.expand_dims(current_position, axis =0).transpose()\n",
    "        \n",
    "        desired_pos = np.array([self.pos1,self.pos2,self.pos3])\n",
    "        \n",
    "    def _desiredT(self):\n",
    "        x_in = self.theta7\n",
    "        a7 = 2\n",
    "        d7 = 2\n",
    "        _Tdesired = np.array([[m.cos(x_in ), -m.cos(m.pi/2)*m.sin( x_in), m.sin(m.pi/2)*m.sin(x_in), a7*m.cos(x_in) ],[ m.sin(x_in) , m.cos(m.pi/2)*m.cos(x_in), -m.sin(m.pi/2)*m.cos(x_in), a7*m.sin(x_in) ],[ 0 , m.sin(m.pi/2), m.cos(m.pi/2), d7 ],[ 0 , 0, 0, 1]])\n",
    "        return _Tdesired\n",
    "       \n",
    "        \n",
    "\n",
    "        \n",
    "ex = Inverse(10,10,10,10,10,10,12,1,2,3)\n",
    "ex._Jacobian()\n",
    "T7 = ex._desiredT()"
   ]
  },
  {
   "cell_type": "code",
   "execution_count": 99,
   "id": "3177dc50",
   "metadata": {},
   "outputs": [
    {
     "data": {
      "text/plain": [
       "array([[-6.57746350e-01, -6.57746350e-01,  4.38053112e+00,\n",
       "        -1.53783917e+00, -5.15259772e+00,  6.75008122e+00],\n",
       "       [ 7.51807518e+00,  7.51807518e+00,  1.93583793e+00,\n",
       "         8.37355968e+00, -2.08217794e+00, -4.96688786e-01],\n",
       "       [-4.53258127e+00, -4.53258127e+00, -3.53658926e-16,\n",
       "        -4.73391944e+00, -9.74925262e-02,  3.37651579e+00],\n",
       "       [-9.96194698e-01, -9.96194698e-01, -1.31988853e-16,\n",
       "        -9.84923155e-01,  1.50194729e-02,  1.14763702e-01],\n",
       "       [-8.71557427e-02, -8.71557427e-02,  1.15981998e-16,\n",
       "        -1.72329125e-01, -8.45176176e-02,  9.75243219e-01],\n",
       "       [ 6.12323400e-17,  6.12323400e-17, -1.00000000e+00,\n",
       "         1.51344359e-02,  1.01127154e+00, -8.59678906e-02]])"
      ]
     },
     "execution_count": 99,
     "metadata": {},
     "output_type": "execute_result"
    }
   ],
   "source": [
    "\n",
    "# Instantiation of class \n",
    "test = Forward(5,5,5,5,5,5)\n",
    "\n",
    "# Function to get final position of frame 5 based on forward kinematics \n",
    "joint = test._jointpos()\n",
    "end = test._endeff()[:,3]\n",
    "oi = test._ori()\n",
    "test._Firstori()\n",
    "# = test._jointsvec()\n",
    "#rint(J.shape)\n",
    "cobian = test._Jacobian()\n",
    "cobian\n"
   ]
  },
  {
   "cell_type": "code",
   "execution_count": 5,
   "id": "c36e5df3",
   "metadata": {},
   "outputs": [
    {
     "name": "stdout",
     "output_type": "stream",
     "text": [
      "One step done next 0\n",
      "One step done next 1\n",
      "One step done next 2\n",
      "One step done next 3\n",
      "One step done next 4\n",
      "One step done next 5\n",
      "One step done next 6\n",
      "One step done next 7\n",
      "One step done next 8\n",
      "One step done next 9\n",
      "One step done next 10\n",
      "One step done next 11\n",
      "One step done next 12\n",
      "One step done next 13\n",
      "One step done next 14\n",
      "One step done next 15\n",
      "One step done next 16\n",
      "One step done next 17\n",
      "One step done next 18\n",
      "One step done next 19\n",
      "One step done next 20\n",
      "One step done next 21\n",
      "One step done next 22\n",
      "One step done next 23\n",
      "One step done next 24\n",
      "One step done next 25\n",
      "One step done next 26\n",
      "One step done next 27\n",
      "One step done next 28\n",
      "One step done next 29\n",
      "One step done next 30\n",
      "One step done next 31\n",
      "One step done next 32\n",
      "One step done next 33\n",
      "One step done next 34\n",
      "One step done next 35\n",
      "One step done next 36\n",
      "One step done next 37\n",
      "One step done next 38\n",
      "One step done next 39\n",
      "One step done next 40\n",
      "One step done next 41\n",
      "One step done next 42\n",
      "One step done next 43\n",
      "One step done next 44\n",
      "One step done next 45\n",
      "One step done next 46\n",
      "One step done next 47\n",
      "One step done next 48\n",
      "One step done next 49\n",
      "One step done next 50\n",
      "One step done next 51\n",
      "One step done next 52\n",
      "One step done next 53\n",
      "One step done next 54\n",
      "One step done next 55\n",
      "One step done next 56\n",
      "One step done next 57\n",
      "One step done next 58\n",
      "One step done next 59\n",
      "One step done next 60\n",
      "One step done next 61\n",
      "One step done next 62\n",
      "One step done next 63\n",
      "One step done next 64\n",
      "One step done next 65\n",
      "One step done next 66\n",
      "One step done next 67\n",
      "One step done next 68\n",
      "One step done next 69\n",
      "One step done next 70\n",
      "One step done next 71\n",
      "0.005575895309448242\n"
     ]
    }
   ],
   "source": [
    "# Trying to plot workspace of the robot\n",
    "\n",
    "list1 = []\n",
    "list2 = []\n",
    "list3 = []\n",
    "list4 = []\n",
    "list5 = []\n",
    "list6 = []\n",
    "a1 = np.arange(1,360,5)\n",
    "a2 = np.arange(1,360,5)\n",
    "a3 = np.arange(1,360,5)\n",
    "a4 = np.arange(1,360,5)\n",
    "a5 = np.arange(1,360,5)\n",
    "a6 = np.arange(1,360,5)\n",
    "tic = time.time()\n",
    "for i in range(72):\n",
    "\n",
    "    test = Forward(a1[i],a2[i],a3[i],a4[i],a5[i],0)\n",
    "    j = test._jointpos()\n",
    "    f = test._endeff()[:,3][:3]\n",
    "    j1 = j[0][:3]\n",
    "    j2 = j[1][:3]\n",
    "    j3 = j[2][:3]\n",
    "    j4 = j[3][:3]\n",
    "    j5 = j[4][:3]\n",
    "    list1.insert(i,j1)\n",
    "    list2.insert(i,j2)\n",
    "    list3.insert(i,j3)\n",
    "    list4.insert(i,j4)\n",
    "    list5.insert(i,j5)\n",
    "    list6.insert(i,f)\n",
    "    \n",
    "    print('One step done next',i)\n",
    "    \n",
    "toc = time.time()\n",
    "print(toc-tic)"
   ]
  },
  {
   "cell_type": "code",
   "execution_count": null,
   "id": "c0369691",
   "metadata": {},
   "outputs": [],
   "source": []
  },
  {
   "cell_type": "code",
   "execution_count": 6,
   "id": "4f47ae99",
   "metadata": {},
   "outputs": [
    {
     "data": {
      "image/png": "[encoded data removed]",
      "text/plain": [
       "<Figure size 640x480 with 1 Axes>"
      ]
     },
     "metadata": {},
     "output_type": "display_data"
    }
   ],
   "source": [
    "plt.figure()\n",
    "ax = plt.axes(projection='3d')\n",
    "\n",
    "ax.plot3D(10, 10, 10, 'blue')\n",
    "for i in range(72):\n",
    "    ax.scatter3D(list6[i][0],list6[i][1],list6[i][2])\n",
    "    plt.suptitle('Workspace analysis for end-effector')\n",
    "    plt.xlabel('X coordinate')\n",
    "    \n",
    "    plt.ylabel('Y coordinate')\n",
    "    ax.set_zlabel('Z coordinate')\n",
    "\n",
    "\n"
   ]
  },
  {
   "cell_type": "code",
   "execution_count": 18,
   "id": "d29bb5aa",
   "metadata": {},
   "outputs": [
    {
     "data": {
      "text/plain": [
       "array([1.2246468e-16, 2.0000000e+00, 1.0000000e+00, 1.0000000e+00])"
      ]
     },
     "execution_count": 18,
     "metadata": {},
     "output_type": "execute_result"
    }
   ],
   "source": [
    "j[0]"
   ]
  },
  {
   "cell_type": "markdown",
   "id": "b335542c",
   "metadata": {},
   "source": [
    "# Inverse kinematics using Newton-Raphson method"
   ]
  },
  {
   "cell_type": "markdown",
   "id": "6e5a3744",
   "metadata": {},
   "source": [
    "### Finding the jacobian using geometric method"
   ]
  },
  {
   "cell_type": "code",
   "execution_count": 7,
   "id": "31f9194f",
   "metadata": {},
   "outputs": [
    {
     "data": {
      "text/plain": [
       "2.332199668865038e-16"
      ]
     },
     "execution_count": 7,
     "metadata": {},
     "output_type": "execute_result"
    }
   ],
   "source": [
    "# First finding jacobian\n",
    "\n",
    "jangles = test._jointsvec()\n",
    "z0 = jangles[0][:3]\n",
    "z1 = jangles[1][:3]\n",
    "z2 = jangles[2][:3]\n",
    "z3 = jangles[3][:3]\n",
    "z4 = jangles[4][:3]\n",
    "z5 = jangles[5][:3]\n",
    "\n",
    "# joint positions (P)\n",
    "p0 = end[:3] \n",
    "p1 = end[:3] - joint[0][:3] #p6 - p1\n",
    "p2 = end[:3] - joint[1][:3] #p6 - p2\n",
    "p3 = end[:3] - joint[2][:3]#p6 - p3\n",
    "p4 = end[:3] - joint[3][:3] #p6 - p4\n",
    "p5 = end[:3] - joint[4][:3] #p6 - p5\n",
    "\n",
    "entry1 = np.cross(z0,p0)\n",
    "entry2 = np.cross(z1,p1)\n",
    "entry3 = np.cross(z2,p2)\n",
    "entry4 = np.cross(z3,p3)\n",
    "entry5 = np.cross(z4,p4)\n",
    "entry6 = np.cross(z5,p5)\n",
    "\n",
    "# Stacking the vectors to find the jacobian matrix\n",
    "e1 = np.expand_dims(entry1,axis=0).transpose()\n",
    "E1 = np.append(e1,z0)\n",
    "\n",
    "e2 = np.expand_dims(entry2, axis=0).transpose()\n",
    "E2 = np.append(e2,z1)\n",
    "\n",
    "e3 = np.expand_dims(entry3, axis=0).transpose()\n",
    "E3 = np.append(e3,z2)\n",
    "\n",
    "e4 = np.expand_dims(entry4, axis=0).transpose()\n",
    "E4 = np.append(e4,z3)\n",
    "\n",
    "e5 = np.expand_dims(entry5, axis=0).transpose()\n",
    "E5 = np.append(e5,z4)\n",
    "\n",
    "e6 = np.expand_dims(entry6, axis=0).transpose()\n",
    "E6 = np.append(e6,z5)\n",
    "\n",
    "J = np.column_stack((E1,E2,E3,E4,E5,E6))\n",
    "\n",
    "J[2,2]\n"
   ]
  },
  {
   "cell_type": "code",
   "execution_count": 137,
   "id": "f6dfeee7",
   "metadata": {},
   "outputs": [
    {
     "name": "stdout",
     "output_type": "stream",
     "text": [
      "[[-2.93203263]\n",
      " [ 4.29337538]\n",
      " [ 7.54679301]]\n"
     ]
    }
   ],
   "source": [
    "# Implementing the Newton-Raphson method, now that I have the jacobian matrix\n",
    "posori = np.array([end[0],end[1],end[2]])\n",
    "POSORI = np.expand_dims(posori, axis =0).transpose()\n",
    "print(POSORI)\n",
    "st1 = 10\n",
    "st2 = 10\n",
    "st3 = 10\n",
    "st4 = 10\n",
    "st5 = 10\n",
    "st6 = 10\n",
    "j=0"
   ]
  },
  {
   "cell_type": "code",
   "execution_count": 177,
   "id": "d83eab54",
   "metadata": {},
   "outputs": [],
   "source": [
    "Error_P = [500]\n",
    "#while Err_theta>3:\n",
    "\n",
    "\n",
    "for i in range(0,100):\n",
    "\n",
    "    test2 = Forward(st1,st2,st3,st4,st5,st6)\n",
    "    end2  = test2._endeff()[:,3]\n",
    "    joint2 = test2._jointpos()\n",
    "    ori =test2._ori()\n",
    "    orientation = np.array(ori)\n",
    "    OR = np.expand_dims(orientation,axis=0).transpose()\n",
    "\n",
    "\n",
    "    jangles = test2._jointsvec()\n",
    "    z0 = jangles[0][:3]\n",
    "    z1 = jangles[1][:3]\n",
    "    z2 = jangles[2][:3]\n",
    "    z3 = jangles[3][:3]\n",
    "    z4 = jangles[4][:3]\n",
    "    z5 = jangles[5][:3]\n",
    "\n",
    "    # joint positions (P)\n",
    "    p0 = end2[:3] \n",
    "    p1 = end2[:3] - joint2[0][:3] #p6 - p1\n",
    "    p2 = end2[:3] - joint2[1][:3] #p6 - p2\n",
    "    p3 = end2[:3] - joint2[2][:3]#p6 - p3\n",
    "    p4 = end2[:3] - joint2[3][:3] #p6 - p4\n",
    "    p5 = end2[:3] - joint2[4][:3] #p6 - p5\n",
    "\n",
    "    entry1 = np.cross(z0,p0)\n",
    "    entry2 = np.cross(z1,p1)\n",
    "    entry3 = np.cross(z2,p2)\n",
    "    entry4 = np.cross(z3,p3)\n",
    "    entry5 = np.cross(z4,p4)\n",
    "    entry6 = np.cross(z5,p5)\n",
    "\n",
    "    # Stacking the vectors to find the jacobian matrix\n",
    "    e1 = np.expand_dims(entry1,axis=0).transpose()\n",
    "    E1 = np.append(e1,z0)\n",
    "\n",
    "    e2 = np.expand_dims(entry2, axis=0).transpose()\n",
    "    E2 = np.append(e2,z1)\n",
    "\n",
    "    e3 = np.expand_dims(entry3, axis=0).transpose()\n",
    "    E3 = np.append(e3,z2)\n",
    "\n",
    "    e4 = np.expand_dims(entry4, axis=0).transpose()\n",
    "    E4 = np.append(e4,z3)\n",
    "\n",
    "    e5 = np.expand_dims(entry5, axis=0).transpose()\n",
    "    E5 = np.append(e5,z4)\n",
    "\n",
    "    e6 = np.expand_dims(entry6, axis=0).transpose()\n",
    "    E6 = np.append(e6,z5)\n",
    "\n",
    "    J1 = np.column_stack((E1,E2,E3,E4,E5,E6))\n",
    "    J_inv = np.linalg.inv(J1)\n",
    "\n",
    "    End2 = np.expand_dims(end2[:3],axis=0).transpose()\n",
    "    #err_theta = np.subtract(POSORI[3:6], OR)\n",
    "    #Err_theta = np.linalg.norm(err_theta)\n",
    "    #Error_theta.insert(i,Err_theta)\n",
    "    \n",
    "    err_P = np.subtract(POSORI[0:3],End2)\n",
    "    Err_P = np.linalg.norm(err_P)\n",
    "    Error_P.insert(i,Err_P)\n",
    "    alpha = 0.1\n",
    "    if (Error_P[i]<Error_P[i-1]): \n",
    "        err_P = np.subtract(POSORI[0:3],End2)\n",
    "        Err_P = np.linalg.norm(err_P)\n",
    "        Jv = J1[0:3]\n",
    "\n",
    "        U, D, Vt = np.linalg.svd(Jv, full_matrices=False)\n",
    "        threshold = 1e-10\n",
    "        D_inv = np.where(D > threshold, 1 / D, 0)\n",
    "        Jv_pseudo = Vt.T @ np.diag(D_inv) @ U.T\n",
    "\n",
    "        ERR = np.expand_dims(Err_P, axis =0).transpose()\n",
    "        norm_error = np.linalg.norm(ERR)\n",
    "\n",
    "        D_theta = Jv_pseudo@err_P\n",
    "\n",
    "        st1 = st1 + alpha*(D_theta[0][0])\n",
    "        st2 = st2 + alpha*(D_theta[1][0])\n",
    "        st3 = st3 + alpha*(D_theta[2][0])\n",
    "        st4 = st4 + alpha*(D_theta[3][0])\n",
    "        st5 = st5 + alpha*(D_theta[4][0])\n",
    "        st6 = st6 + alpha*(D_theta[5][0])\n",
    "        #print(\"st1: \",st1)\n",
    "\n",
    "        if norm_error<0.1:\n",
    "            print(\"\"\"\n",
    "            YESSSSS\n",
    "\n",
    "            \"\"\")\n",
    "            print(\"st1: \",st1)\n",
    "            print(\"st2: \",st2)\n",
    "            print(\"st3: \",st3)\n",
    "            print(\"st4: \",st4)\n",
    "            print(\"st5: \",st5)\n",
    "            print(\"st6: \",st6)\n",
    "            print(\"  \",i,  norm_error)\n",
    "    # Error_theta.insert(i,Err_theta[i])\n",
    "\n",
    "    else:\n",
    "        st1 = st1 + alpha*(D_theta[0][0])/2\n",
    "        st2 = st2 + alpha*(D_theta[1][0])/2\n",
    "        st3 = st3 + alpha*(D_theta[2][0])/2\n",
    "        st4 = st4 + alpha*(D_theta[3][0])/2\n",
    "        st5 = st5 + alpha*(D_theta[4][0])/2\n",
    "        st6 = st6 + alpha*(D_theta[5][0])/2\n",
    "        print(\"Changes made and result is: \", norm_error)\n",
    "        #print(\"st1: \",st1)\n",
    "        if norm_error<0.1:\n",
    "            print(\"\"\"\n",
    "            YESSSSS\n",
    "            \"\"\")\n",
    "            print(\"st1: \",st1)\n",
    "            print(\"st2: \",st2)\n",
    "            print(\"st3: \",st3)\n",
    "            print(\"st4: \",st4)\n",
    "            print(\"st5: \",st5)\n",
    "    # print(\"st6: \",st6)\n",
    "            print(\"  \",i,  norm_error)\n",
    "    # print(\"\"\"\n",
    "    # Something went wrong\n",
    "        #The following entry in the list is best\n",
    "        #\"\"\",i-1)#Error_theta.insert(i,Err_theta[i])\n",
    "        \n",
    "\n",
    "\n",
    "\n"
   ]
  },
  {
   "cell_type": "code",
   "execution_count": 148,
   "id": "c8dde7a2",
   "metadata": {},
   "outputs": [
    {
     "name": "stdout",
     "output_type": "stream",
     "text": [
      "0.8696903910488022\n",
      "[[-2.62123185]\n",
      " [ 3.49751667]\n",
      " [ 7.38439481]]\n",
      "8.177582578222474\n",
      "11.029706419231575\n",
      "10.119256747677957\n",
      "14.666227961905438\n",
      "8.928494267066872\n",
      "10.641120649846341\n"
     ]
    }
   ],
   "source": [
    "print(norm_error)\n",
    "err_P\n",
    "print(End2)\n",
    "\n",
    "print(st1)\n",
    "print(st2)\n",
    "print(st3)\n",
    "print(st4)\n",
    "print(st5)\n",
    "print(st6)"
   ]
  },
  {
   "cell_type": "code",
   "execution_count": 180,
   "id": "4f8fca69",
   "metadata": {},
   "outputs": [
    {
     "data": {
      "text/plain": [
       "array([-1.88846982,  1.98971581,  7.63376192])"
      ]
     },
     "execution_count": 180,
     "metadata": {},
     "output_type": "execute_result"
    }
   ],
   "source": [
    "posori"
   ]
  },
  {
   "cell_type": "code",
   "execution_count": 261,
   "id": "1b344f4f",
   "metadata": {},
   "outputs": [
    {
     "data": {
      "text/plain": [
       "1990"
      ]
     },
     "execution_count": 261,
     "metadata": {},
     "output_type": "execute_result"
    }
   ],
   "source": [
    "Min = (min(Error_theta))\n",
    "Error_theta.index(Min)"
   ]
  },
  {
   "cell_type": "markdown",
   "id": "62545b20",
   "metadata": {},
   "source": [
    "# Plotting delta(theta) vs time to inspect the function"
   ]
  },
  {
   "cell_type": "code",
   "execution_count": 178,
   "id": "bbe70168",
   "metadata": {},
   "outputs": [
    {
     "data": {
      "text/plain": [
       "array([[-0.08328035],\n",
       "       [ 0.03083463],\n",
       "       [ 0.0191938 ],\n",
       "       [ 0.16821206],\n",
       "       [-0.036094  ],\n",
       "       [ 0.00241978]])"
      ]
     },
     "execution_count": 178,
     "metadata": {},
     "output_type": "execute_result"
    },
    {
     "data": {
      "image/png": "[encoded data removed]",
      "text/plain": [
       "<Figure size 640x480 with 1 Axes>"
      ]
     },
     "metadata": {},
     "output_type": "display_data"
    }
   ],
   "source": [
    "plt.figure()\n",
    "theta = np.array([np.linspace(0,6,6)]).transpose()\n",
    "time = np.linspace(0,30,45)\n",
    "plt.xlabel('thetas')\n",
    "plt.ylabel('Delta_theta')\n",
    "plt.plot(theta,D_theta)\n",
    "D_theta"
   ]
  },
  {
   "cell_type": "code",
   "execution_count": 19,
   "id": "36bd617d",
   "metadata": {},
   "outputs": [
    {
     "name": "stdout",
     "output_type": "stream",
     "text": [
      "[[-6.1232340e-17 -1.0000000e+00 -2.4492936e-16  5.5000000e+00]\n",
      " [-6.1232340e-17 -1.2246468e-16  1.0000000e+00 -7.9000000e+00]\n",
      " [ 1.0000000e+00 -6.1232340e-17  6.1232340e-17  2.8000000e+00]\n",
      " [ 0.0000000e+00  0.0000000e+00  0.0000000e+00  1.0000000e+00]]\n"
     ]
    }
   ],
   "source": [
    "T6 = test._endeff()\n",
    "T6_inv = np.linalg.inv(T6)\n",
    "print( T6_inv)\n",
    "\n"
   ]
  },
  {
   "cell_type": "code",
   "execution_count": 96,
   "id": "bca8a141",
   "metadata": {},
   "outputs": [],
   "source": [
    "_0T7 = T6@T7\n",
    "_Tbd = T6_inv*_0T7\n",
    "\n",
    "import scipy\n",
    "mod_Vb = scipy.linalg.logm(_Tbd, disp=True)"
   ]
  },
  {
   "cell_type": "code",
   "execution_count": 58,
   "id": "856e3d3a",
   "metadata": {},
   "outputs": [],
   "source": [
    "# Now finding jacobian \n",
    "Jx = test._Jacobian()\n",
    "Jx_inv = scipy.linalg.pinv(Jx)"
   ]
  },
  {
   "cell_type": "markdown",
   "id": "f34d9508",
   "metadata": {},
   "source": [
    "T in the above case is not the transformation matrix, it is the column vector represeting POSORI \n"
   ]
  },
  {
   "cell_type": "code",
   "execution_count": 92,
   "id": "4e785266",
   "metadata": {},
   "outputs": [
    {
     "data": {
      "text/plain": [
       "array([[-2.8000000e+00],\n",
       "       [ 5.5000000e+00],\n",
       "       [ 7.9000000e+00],\n",
       "       [ 9.0000000e+01],\n",
       "       [-7.0167093e-15],\n",
       "       [-9.0000000e+01]])"
      ]
     },
     "execution_count": 92,
     "metadata": {},
     "output_type": "execute_result"
    }
   ],
   "source": [
    "# This is for end-effector-position \n",
    "\n",
    "Ori = np.expand_dims(oi,axis=0).transpose()\n",
    "POS = np.expand_dims(end[:3],axis=0).transpose()\n",
    "\n",
    "Position_orientation_endeff = np.append(POS,Ori)\n",
    "Pos_ori_endeff = np.expand_dims(Position_orientation_endeff,axis=1)\n",
    "Pos_ori_endeff"
   ]
  },
  {
   "cell_type": "code",
   "execution_count": 179,
   "id": "248319f4",
   "metadata": {},
   "outputs": [
    {
     "data": {
      "text/plain": [
       "array([-0.8       ,  3.81229208,  6.82685416])"
      ]
     },
     "execution_count": 179,
     "metadata": {},
     "output_type": "execute_result"
    }
   ],
   "source": [
    "# Now for new position \n",
    "_0T7[:,3][:3]\n"
   ]
  },
  {
   "cell_type": "code",
   "execution_count": 180,
   "id": "f0dec65a",
   "metadata": {},
   "outputs": [],
   "source": [
    "#A = scipy.optimize.newton(D_theta, 1,fprime=Jv,maxiter =50)"
   ]
  },
  {
   "cell_type": "code",
   "execution_count": 172,
   "id": "bd9ad555",
   "metadata": {},
   "outputs": [
    {
     "data": {
      "text/plain": [
       "numpy.int64"
      ]
     },
     "execution_count": 172,
     "metadata": {},
     "output_type": "execute_result"
    }
   ],
   "source": [
    "x_ = np.array([1,1,1,1,1,1])\n",
    "type(x_[0])"
   ]
  },
  {
   "cell_type": "code",
   "execution_count": 167,
   "id": "983a9b63",
   "metadata": {},
   "outputs": [],
   "source": [
    "from scipy import optimize"
   ]
  },
  {
   "cell_type": "code",
   "execution_count": 168,
   "id": "1715facd",
   "metadata": {},
   "outputs": [
    {
     "data": {
      "text/plain": [
       "array([[-1.05135318, -0.90897819,  1.39708126, -2.50618509,  0.56869157,\n",
       "         6.77901072],\n",
       "       [ 7.30916843,  6.31935564,  2.60648245,  6.12520054, -0.65651003,\n",
       "         6.92487128],\n",
       "       [-3.83508461, -1.85545903, -0.03777602, -0.46063984, -0.1049657 ,\n",
       "         0.41327827]])"
      ]
     },
     "execution_count": 168,
     "metadata": {},
     "output_type": "execute_result"
    }
   ],
   "source": [
    "Jv"
   ]
  },
  {
   "cell_type": "code",
   "execution_count": 176,
   "id": "7904ba28",
   "metadata": {},
   "outputs": [
    {
     "data": {
      "text/plain": [
       "(6, 1)"
      ]
     },
     "execution_count": 176,
     "metadata": {},
     "output_type": "execute_result"
    }
   ],
   "source": [
    "X_ = np.expand_dims(x_,axis=1)\n",
    "X_.shape"
   ]
  }
 ],
 "metadata": {
  "kernelspec": {
   "display_name": "Python 3 (ipykernel)",
   "language": "python",
   "name": "python3"
  },
  "language_info": {
   "codemirror_mode": {
    "name": "ipython",
    "version": 3
   },
   "file_extension": ".py",
   "mimetype": "text/x-python",
   "name": "python",
   "nbconvert_exporter": "python",
   "pygments_lexer": "ipython3",
   "version": "3.11.5"
  }
 },
 "nbformat": 4,
 "nbformat_minor": 5
}
