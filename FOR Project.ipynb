{
 "cells": [
  {
   "cell_type": "code",
   "execution_count": 51,
   "id": "f69780c0",
   "metadata": {},
   "outputs": [],
   "source": [
    "import numpy as np\n",
    "import math as m \n",
    "import matplotlib.pyplot as plt\n",
    "import time\n",
    "import scipy"
   ]
  },
  {
   "cell_type": "code",
   "execution_count": 175,
   "id": "be0abbd7",
   "metadata": {},
   "outputs": [],
   "source": [
    "def adjoint(matrix):\n",
    "    # Ensure the input is a NumPy array\n",
    "    A = np.array(matrix)\n",
    "    \n",
    "    # Calculate the matrix of cofactors\n",
    "    cofactors = np.linalg.inv(A) * np.linalg.det(A)\n",
    "\n",
    "    # Transpose the matrix of cofactors to obtain the adjoint\n",
    "    adj_A = cofactors.T\n",
    "\n",
    "    return adj_A\n"
   ]
  },
  {
   "cell_type": "markdown",
   "id": "0943330d",
   "metadata": {},
   "source": [
    "## Took the input of angles in degrees and gives out T matrix"
   ]
  },
  {
   "cell_type": "code",
   "execution_count": 424,
   "id": "c1fb217c",
   "metadata": {},
   "outputs": [],
   "source": [
    "# Implementing class/library for forward kinematics \n",
    "class Forward:\n",
    "    \n",
    "    def __init__(self, theta1,theta2,theta3,theta4,theta5,theta6):\n",
    "        self.theta1 = theta1\n",
    "        self.theta2 = theta2\n",
    "        self.theta3 = theta3\n",
    "        self.theta4 = theta4\n",
    "        self.theta5 = theta5\n",
    "        self.theta6 = theta6\n",
    "        \n",
    "    # This is transformation from frame 1 to 0     \n",
    "\n",
    "    def _0T1(self):\n",
    "        x_in = np.radians(self.theta1)\n",
    "        d1 = 1\n",
    "        a1 = 0\n",
    "        \n",
    "        _T1 = np.array([[m.cos(-m.pi/2 + x_in ), -m.cos(m.pi/2)*m.sin(-m.pi/2+ x_in), m.sin(m.pi/2)*m.sin(-m.pi/2+x_in), a1*m.cos(-m.pi/2)  ],[ m.sin(-m.pi/2+x_in) , m.cos(m.pi/2)*m.cos(-m.pi/2+x_in), -m.sin(m.pi/2)*m.cos(-m.pi/2+x_in), a1*m.sin(-m.pi/2) ],[ 0 , m.sin(m.pi/2), m.cos(m.pi/2), d1 ],[ 0 , 0, 0, 1]])\n",
    "       \n",
    "        return _T1\n",
    "    \n",
    "    # This is transformation from frame 2 to 1    \n",
    "    def _1T2(self):\n",
    "        x_in = np.radians(self.theta2)\n",
    "        a2 = 1\n",
    "        \n",
    "        _T2 = np.array([[m.cos(m.pi/2 + x_in ), -m.cos(0)*m.sin(m.pi/2+ x_in), m.sin(0)*m.sin(m.pi/2+x_in), a2*m.cos(m.pi/2) ],[ m.sin(m.pi/2+x_in) , m.cos(0)*m.cos(m.pi/2+x_in), -m.sin(0)*m.cos(m.pi/2+x_in), a2*m.sin(m.pi/2) ],[ 0 , m.sin(0), m.cos(0), 0 ],[ 0 , 0, 0, 1]]) \n",
    "        return _T2 \n",
    "    \n",
    "    # This is transformation from frame 3 to 2\n",
    "    def _2T3(self):\n",
    "        x_in = np.radians(self.theta3)\n",
    "        a3= 0\n",
    "        d3 = 2\n",
    "        \n",
    "        _T3 = np.array([[m.cos(-m.pi/2 + x_in ), -m.cos(-m.pi/2)*m.sin(m.pi/2+ x_in), m.sin(-m.pi/2)*m.sin(m.pi/2+x_in), a3*m.cos(-m.pi/2) ],[ m.sin(-m.pi/2+x_in) , m.cos(-m.pi/2)*m.cos(-m.pi/2+x_in), -m.sin(-m.pi/2)*m.cos(-m.pi/2+x_in), a3*m.sin(-m.pi/2) ],[ 0 , m.sin(-m.pi/2), m.cos(-m.pi/2), d3 ],[ 0 , 0, 0, 1]])\n",
    "        return _T3\n",
    "    \n",
    "    # This is transformation from frame 4 to 3\n",
    "    def _3T4(self):\n",
    "        x_in = np.radians(self.theta4)\n",
    "        d4 = 1.1\n",
    "        a4 = 0\n",
    "        _T4 = np.array([[m.cos( x_in ), -m.cos(m.pi/2)*m.sin( x_in), m.sin(m.pi/2)*m.sin(x_in), a4*m.cos(0) ],[ m.sin(x_in) , m.cos(m.pi/2)*m.cos(x_in), -m.sin(m.pi/2)*m.cos(x_in), a4*m.sin(0) ],[ 0 , m.sin(m.pi/2), m.cos(m.pi/2), d4 ],[ 0 , 0, 0, 1]])\n",
    "        return _T4\n",
    "    \n",
    "    # This is transformation from frame 5 to 4\n",
    "    def _4T5(self):\n",
    "        x_in = np.radians(self.theta5)\n",
    "        a5 = 2\n",
    "        d5 = 0.8\n",
    "        _T5 = np.array([[m.cos(m.pi + x_in ), -m.cos(-m.pi/2)*m.sin(m.pi+ x_in), m.sin(-m.pi/2)*m.sin(m.pi +x_in), a5*m.cos(m.pi/2) ],[ m.sin(m.pi+x_in) , m.cos(-m.pi/2)*m.cos(m.pi+x_in), -m.sin(-m.pi/2)*m.cos(m.pi+x_in), a5*m.sin(m.pi/2) ],[ 0 , m.sin(-m.pi/2), m.cos(-m.pi/2), d5 ],[ 0 , 0, 0, 1]])\n",
    "        return _T5\n",
    "    \n",
    "    def _5T6(self):\n",
    "        x_in = self.theta6\n",
    "        a6 = 10\n",
    "        d6 = 0\n",
    "        _T6 = np.array([[m.cos(0 + x_in ), -m.cos(0)*m.sin(0+ x_in), m.sin(0)*m.sin(+x_in), a6*m.cos(x_in) ],[ m.sin( x_in) , m.cos(0)*m.cos(x_in), -m.sin(0)*m.cos( x_in), a6*m.sin(x_in) ],[ 0 , m.sin(0), m.cos(0), d6 ],[ 0 , 0, 0, 1]])\n",
    "        return _T6\n",
    "\n",
    "    \n",
    "        \n",
    "    def _jointpos(self):\n",
    "        T1 = self._0T1\n",
    "        T2 = self._1T2\n",
    "        T3 = self._2T3\n",
    "        T4 = self._3T4\n",
    "        T5 = self._4T5\n",
    "        T6 = self._5T6\n",
    "        op1 = np.matmul(T1(),T2()) # frame 2 to 0\n",
    "        op2 = np.matmul(op1, T3()) # frame 3 to 0\n",
    "        op3 = np.matmul(op2, T4()) # frame 4 to 0  \n",
    "        op4 = np.matmul(op3, T5()) # frame 5 to 0\n",
    "        op5 = np.matmul(op4, T6()) # frame 6 to 0\n",
    "        return T1()[:,3] ,op1[:,3], op2[:,3], op3[:,3], op4[:,3]\n",
    "    \n",
    "    def _jointsvec(self):\n",
    "        T1 = self._0T1\n",
    "        T2 = self._1T2\n",
    "        T3 = self._2T3\n",
    "        T4 = self._3T4\n",
    "        T5 = self._4T5\n",
    "        T6 = self._5T6\n",
    "        op1 = np.matmul(T1(),T2()) # frame 2 to 0\n",
    "        op2 = np.matmul(op1, T3()) # frame 3 to 0\n",
    "        op3 = np.matmul(op2, T4()) # frame 4 to 0  \n",
    "        op4 = np.matmul(op3, T5()) # frame 5 to 0\n",
    "        op5 = np.matmul(op4, T6()) # frame 6 to 0 \n",
    "        return T1()[:,2], op1[:,2], op2[:,2], op3[:,2], op4[:,2], op5[:,2]\n",
    "        \n",
    "    def _endeff(self):\n",
    "        T1 = self._0T1\n",
    "        T2 = self._1T2\n",
    "        T3 = self._2T3\n",
    "        T4 = self._3T4\n",
    "        T5 = self._4T5\n",
    "        T6 = self._5T6\n",
    "        op1 = np.matmul(T1(),T2()) # frame 2 to 0\n",
    "        op2 = np.matmul(op1, T3()) # frame 3 to 0\n",
    "        op3 = np.matmul(op2, T4()) # frame 4 to 0  \n",
    "        op4 = np.matmul(op3, T5()) # frame 5 to 0\n",
    "        op5 = np.matmul(op4, T6())\n",
    "       \n",
    "        return op5\n",
    "    \n",
    "    def _ori(self):\n",
    "        T1 = self._0T1\n",
    "        T2 = self._1T2\n",
    "        T3 = self._2T3\n",
    "        T4 = self._3T4\n",
    "        T5 = self._4T5\n",
    "        T6 = self._5T6\n",
    "        op1 = np.matmul(T1(),T2()) # frame 2 to 0\n",
    "        op2 = np.matmul(op1, T3()) # frame 3 to 0\n",
    "        op3 = np.matmul(op2, T4()) # frame 4 to 0  \n",
    "        op4 = np.matmul(op3, T5()) # frame 5 to 0\n",
    "        op5 = np.matmul(op4, T6())\n",
    "        theta_x = np.degrees(np.arctan2(op5[2,1],op5[2,2]))\n",
    "        theta_y = np.degrees(np.arctan2(op5[2,0], m.sqrt((op5[2,1])**2+ (op5[2,2])**2)))\n",
    "        theta_z = np.degrees(np.arctan2(op5[1,0],op5[0,0]))\n",
    "        \n",
    "        return np.array([theta_x, theta_y, theta_z]) \n",
    "    \n",
    "    def _Jacobian(self):\n",
    "       # Have to do p6-p0\n",
    "        #p6-p1, so on and so forth \n",
    "        zs =  Forward._jointsvec(self)\n",
    "        end_effector_position = Forward._endeff(self)\n",
    "        p6 = end_effector_position[:,3][:3] \n",
    "        pos2 = p6 - zs[0][:3] #p6 - p1\n",
    "        pos3 = p6- zs[1][:3] #p6 - p2\n",
    "        pos4 = p6 - zs[2][:3]#p6 - p3\n",
    "        pos5 = p6 - zs[3][:3] #p6 - p4\n",
    "        pos6 = p6 - zs[4][:3] #  p6 -p5\n",
    "        \n",
    "        z0 = np.array([0,0,0]).transpose()\n",
    "        entry1 = np.cross(z0,p6)\n",
    "        entry2 = np.cross(zs[0][:3],pos2)\n",
    "        entry3 = np.cross(zs[1][:3],pos3)\n",
    "        entry4 = np.cross(zs[2][:3],pos4)\n",
    "        entry5 = np.cross(zs[3][:3],pos5)\n",
    "        entry6 = np.cross(zs[4][:3],pos6)\n",
    "        \n",
    "        e1 = np.expand_dims(entry1,axis=0).transpose()\n",
    "        E1 = np.append(e1,z0)\n",
    "\n",
    "        e2 = np.expand_dims(entry2, axis=0).transpose()\n",
    "        E2 = np.append(e2,zs[0][:3])\n",
    "\n",
    "        e3 = np.expand_dims(entry3, axis=0).transpose()\n",
    "        E3 = np.append(e3,zs[1][:3])\n",
    "\n",
    "        e4 = np.expand_dims(entry4, axis=0).transpose()\n",
    "        E4 = np.append(e4,zs[2][:3])\n",
    "\n",
    "        e5 = np.expand_dims(entry5, axis=0).transpose()\n",
    "        E5 = np.append(e5,zs[3][:3])\n",
    "\n",
    "        e6 = np.expand_dims(entry6, axis=0).transpose()\n",
    "        E6 = np.append(e6,zs[4][:3])\n",
    "\n",
    "        J = np.column_stack((E1,E2,E3,E4,E5,E6))\n",
    "        \n",
    "        return J \n",
    "        \n",
    "        \n",
    "    def _Firstori(self):\n",
    "        T1 = self._0T1\n",
    "        T2 = self._1T2\n",
    "        T3 = self._2T3\n",
    "        T4 = self._3T4\n",
    "        T5 = self._4T5\n",
    "        T6 = self._5T6\n",
    "        op1 = np.matmul(T1(),T2()) # frame 2 to 0\n",
    "        op2 = np.matmul(op1, T3()) # frame 3 to 0\n",
    "        op3 = np.matmul(op2, T4()) # frame 4 to 0  \n",
    "        op4 = np.matmul(op3, T5()) # frame 5 to 0\n",
    "        op5 = np.matmul(op4, T6())\n",
    "        theta_x = np.degrees(np.arctan2(T1()[2,1],T1()[2,2]))\n",
    "        theta_y = np.degrees(np.arctan2(T1()[2,0], m.sqrt((T1()[2,1])**2+ (T1()[2,2])**2)))\n",
    "        theta_z = np.degrees(np.arctan2(T1()[1,0],T1()[0,0]))\n",
    "        \n",
    "        return theta_x, theta_y, theta_z , op2\n",
    "    \n",
    "    \n",
    "\n"
   ]
  },
  {
   "cell_type": "code",
   "execution_count": 127,
   "id": "08074373",
   "metadata": {},
   "outputs": [
    {
     "ename": "LinAlgError",
     "evalue": "Singular matrix",
     "output_type": "error",
     "traceback": [
      "\u001b[0;31m---------------------------------------------------------------------------\u001b[0m",
      "\u001b[0;31mLinAlgError\u001b[0m                               Traceback (most recent call last)",
      "Cell \u001b[0;32mIn[127], line 39\u001b[0m\n\u001b[1;32m     33\u001b[0m         \u001b[39mreturn\u001b[39;00m _Tdesired\n\u001b[1;32m     38\u001b[0m ex \u001b[39m=\u001b[39m Inverse(\u001b[39m10\u001b[39m,\u001b[39m10\u001b[39m,\u001b[39m10\u001b[39m,\u001b[39m10\u001b[39m,\u001b[39m10\u001b[39m,\u001b[39m10\u001b[39m,\u001b[39m12\u001b[39m,\u001b[39m1\u001b[39m,\u001b[39m2\u001b[39m,\u001b[39m3\u001b[39m)\n\u001b[0;32m---> 39\u001b[0m ex\u001b[39m.\u001b[39m_Jacobian()\n\u001b[1;32m     40\u001b[0m T7 \u001b[39m=\u001b[39m ex\u001b[39m.\u001b[39m_desiredT()\n",
      "Cell \u001b[0;32mIn[127], line 19\u001b[0m, in \u001b[0;36mInverse._Jacobian\u001b[0;34m(self)\u001b[0m\n\u001b[1;32m     17\u001b[0m end_effector_position \u001b[39m=\u001b[39m Forward\u001b[39m.\u001b[39m_endeff(\u001b[39mself\u001b[39m)\n\u001b[1;32m     18\u001b[0m Jacobian \u001b[39m=\u001b[39m Forward\u001b[39m.\u001b[39m_Jacobian(\u001b[39mself\u001b[39m)\n\u001b[0;32m---> 19\u001b[0m J_inv \u001b[39m=\u001b[39m np\u001b[39m.\u001b[39mlinalg\u001b[39m.\u001b[39minv(Jacobian)\n\u001b[1;32m     22\u001b[0m end_effector_position \u001b[39m=\u001b[39m Forward\u001b[39m.\u001b[39m_endeff(\u001b[39mself\u001b[39m)[:,\u001b[39m3\u001b[39m]\n\u001b[1;32m     23\u001b[0m current_position \u001b[39m=\u001b[39m np\u001b[39m.\u001b[39marray([end_effector_position[\u001b[39m0\u001b[39m], end_effector_position[\u001b[39m1\u001b[39m], end_effector_position[\u001b[39m2\u001b[39m]])\n",
      "File \u001b[0;32m~/anaconda3/envs/int1/lib/python3.11/site-packages/numpy/linalg/linalg.py:561\u001b[0m, in \u001b[0;36minv\u001b[0;34m(a)\u001b[0m\n\u001b[1;32m    559\u001b[0m signature \u001b[39m=\u001b[39m \u001b[39m'\u001b[39m\u001b[39mD->D\u001b[39m\u001b[39m'\u001b[39m \u001b[39mif\u001b[39;00m isComplexType(t) \u001b[39melse\u001b[39;00m \u001b[39m'\u001b[39m\u001b[39md->d\u001b[39m\u001b[39m'\u001b[39m\n\u001b[1;32m    560\u001b[0m extobj \u001b[39m=\u001b[39m get_linalg_error_extobj(_raise_linalgerror_singular)\n\u001b[0;32m--> 561\u001b[0m ainv \u001b[39m=\u001b[39m _umath_linalg\u001b[39m.\u001b[39minv(a, signature\u001b[39m=\u001b[39msignature, extobj\u001b[39m=\u001b[39mextobj)\n\u001b[1;32m    562\u001b[0m \u001b[39mreturn\u001b[39;00m wrap(ainv\u001b[39m.\u001b[39mastype(result_t, copy\u001b[39m=\u001b[39m\u001b[39mFalse\u001b[39;00m))\n",
      "File \u001b[0;32m~/anaconda3/envs/int1/lib/python3.11/site-packages/numpy/linalg/linalg.py:112\u001b[0m, in \u001b[0;36m_raise_linalgerror_singular\u001b[0;34m(err, flag)\u001b[0m\n\u001b[1;32m    111\u001b[0m \u001b[39mdef\u001b[39;00m \u001b[39m_raise_linalgerror_singular\u001b[39m(err, flag):\n\u001b[0;32m--> 112\u001b[0m     \u001b[39mraise\u001b[39;00m LinAlgError(\u001b[39m\"\u001b[39m\u001b[39mSingular matrix\u001b[39m\u001b[39m\"\u001b[39m)\n",
      "\u001b[0;31mLinAlgError\u001b[0m: Singular matrix"
     ]
    }
   ],
   "source": [
    "class Inverse(Forward):\n",
    "    def __init__(self,theta1,theta2,theta3,theta4,theta5,theta6,theta7,pos1,pos2,pos3):\n",
    "        self.theta1 = theta1\n",
    "        self.theta2 = theta2\n",
    "        self.theta3 = theta3\n",
    "        self.theta4 = theta4\n",
    "        self.theta5 = theta5\n",
    "        self.theta6 = theta6\n",
    "        self.theta7 = theta7\n",
    "        self.pos1 = pos1\n",
    "        self.pos2 = pos2\n",
    "        self.pos3 = pos3\n",
    "        \n",
    "           \n",
    "    def _Jacobian(self):\n",
    "        zs =  Forward._jointsvec(self)\n",
    "        end_effector_position = Forward._endeff(self)\n",
    "        Jacobian = Forward._Jacobian(self)\n",
    "        J_inv = np.linalg.inv(Jacobian)\n",
    "\n",
    " \n",
    "        end_effector_position = Forward._endeff(self)[:,3]\n",
    "        current_position = np.array([end_effector_position[0], end_effector_position[1], end_effector_position[2]])\n",
    "        Current_Position = np.expand_dims(current_position, axis =0).transpose()\n",
    "        \n",
    "        desired_pos = np.array([self.pos1,self.pos2,self.pos3])\n",
    "        \n",
    "    def _desiredT(self):\n",
    "        x_in = self.theta7\n",
    "        a7 = 2\n",
    "        d7 = 2\n",
    "        _Tdesired = np.array([[m.cos(x_in ), -m.cos(m.pi/2)*m.sin( x_in), m.sin(m.pi/2)*m.sin(x_in), a7*m.cos(x_in) ],[ m.sin(x_in) , m.cos(m.pi/2)*m.cos(x_in), -m.sin(m.pi/2)*m.cos(x_in), a7*m.sin(x_in) ],[ 0 , m.sin(m.pi/2), m.cos(m.pi/2), d7 ],[ 0 , 0, 0, 1]])\n",
    "        return _Tdesired\n",
    "       \n",
    "        \n",
    "\n",
    "        \n",
    "ex = Inverse(10,10,10,10,10,10,12,1,2,3)\n",
    "ex._Jacobian()\n",
    "T7 = ex._desiredT()"
   ]
  },
  {
   "cell_type": "code",
   "execution_count": 554,
   "id": "3177dc50",
   "metadata": {},
   "outputs": [
    {
     "data": {
      "text/plain": [
       "array([-2.8       ,  9.84807753,  0.63648178,  1.        ])"
      ]
     },
     "execution_count": 554,
     "metadata": {},
     "output_type": "execute_result"
    }
   ],
   "source": [
    "\n",
    "# Instantiation of class \n",
    "test = Forward(0,0,0,0,10,0)\n",
    "\n",
    "# Function to get final position of frame 5 based on forward kinematics \n",
    "joint = test._jointpos()\n",
    "end = test._endeff()[:,3]\n",
    "oi = test._ori()\n",
    "test._Firstori()\n",
    "# = test._jointsvec()\n",
    "#rint(J.shape)\n",
    "cobian = test._Jacobian()\n",
    "end\n",
    "\n"
   ]
  },
  {
   "cell_type": "code",
   "execution_count": 432,
   "id": "27fb626a",
   "metadata": {},
   "outputs": [
    {
     "data": {
      "text/plain": [
       "array([-8.24021111, -8.39071529, -1.1       ])"
      ]
     },
     "execution_count": 432,
     "metadata": {},
     "output_type": "execute_result"
    }
   ],
   "source": [
    "test._endeff()[:,3][:3]"
   ]
  },
  {
   "cell_type": "code",
   "execution_count": 426,
   "id": "c36e5df3",
   "metadata": {},
   "outputs": [
    {
     "name": "stdout",
     "output_type": "stream",
     "text": [
      "One step done next 0\n",
      "One step done next 1\n",
      "One step done next 2\n",
      "One step done next 3\n",
      "One step done next 4\n",
      "One step done next 5\n",
      "One step done next 6\n",
      "One step done next 7\n",
      "One step done next 8\n",
      "One step done next 9\n",
      "One step done next 10\n",
      "One step done next 11\n",
      "One step done next 12\n",
      "One step done next 13\n",
      "One step done next 14\n",
      "One step done next 15\n",
      "One step done next 16\n",
      "One step done next 17\n",
      "One step done next 18\n",
      "One step done next 19\n",
      "One step done next 20\n",
      "One step done next 21\n",
      "One step done next 22\n",
      "One step done next 23\n",
      "One step done next 24\n",
      "One step done next 25\n",
      "One step done next 26\n",
      "One step done next 27\n",
      "One step done next 28\n",
      "One step done next 29\n",
      "One step done next 30\n",
      "One step done next 31\n",
      "One step done next 32\n",
      "One step done next 33\n",
      "One step done next 34\n",
      "One step done next 35\n",
      "One step done next 36\n",
      "One step done next 37\n",
      "One step done next 38\n",
      "One step done next 39\n",
      "One step done next 40\n",
      "One step done next 41\n",
      "One step done next 42\n",
      "One step done next 43\n",
      "One step done next 44\n",
      "One step done next 45\n",
      "One step done next 46\n",
      "One step done next 47\n",
      "One step done next 48\n",
      "One step done next 49\n",
      "One step done next 50\n",
      "One step done next 51\n",
      "One step done next 52\n",
      "One step done next 53\n",
      "One step done next 54\n",
      "One step done next 55\n",
      "One step done next 56\n",
      "One step done next 57\n",
      "One step done next 58\n",
      "One step done next 59\n",
      "One step done next 60\n",
      "One step done next 61\n",
      "One step done next 62\n",
      "One step done next 63\n",
      "One step done next 64\n",
      "One step done next 65\n",
      "One step done next 66\n",
      "One step done next 67\n",
      "One step done next 68\n",
      "One step done next 69\n",
      "One step done next 70\n",
      "One step done next 71\n",
      "0.005595207214355469\n"
     ]
    }
   ],
   "source": [
    "# Trying to plot workspace of the robot\n",
    "\n",
    "list1 = []\n",
    "list2 = []\n",
    "list3 = []\n",
    "list4 = []\n",
    "list5 = []\n",
    "list6 = []\n",
    "a1 = np.arange(1,360,5)\n",
    "a2 = np.arange(1,360,5)\n",
    "a3 = np.arange(1,360,5)# Trying to plot workspace of the robot\n",
    "\n",
    "list1 = []\n",
    "list2 = []\n",
    "list3 = []\n",
    "list4 = []\n",
    "list5 = []\n",
    "list6 = []\n",
    "a1 = np.arange(1,360,5)\n",
    "a2 = np.arange(1,360,5)\n",
    "a3 = np.arange(1,360,5)\n",
    "a4 = np.arange(1,360,5)\n",
    "a5 = np.arange(1,360,5)\n",
    "a6 = np.arange(1,360,5)\n",
    "tic = time.time()\n",
    "for i in range(72):\n",
    "\n",
    "    test = Forward(0,0,0,0,0,a6[i])\n",
    "    j = test._jointpos()\n",
    "    f = test._endeff()[:,3][:3]\n",
    "    j1 = j[0][:3]\n",
    "    j2 = j[1][:3]\n",
    "    j3 = j[2][:3]\n",
    "    j4 = j[3][:3]\n",
    "    j5 = j[4][:3]\n",
    "    list1.insert(i,j1)\n",
    "    list2.insert(i,j2)\n",
    "    list3.insert(i,j3)\n",
    "    list4.insert(i,j4)\n",
    "    list5.insert(i,j5)\n",
    "    list6.insert(i,f)\n",
    "    \n",
    "    print('One step done next',i)\n",
    "    \n",
    "toc = time.time()\n",
    "print(toc-tic)"
   ]
  },
  {
   "cell_type": "code",
   "execution_count": 427,
   "id": "4f47ae99",
   "metadata": {},
   "outputs": [
    {
     "data": {
      "image/png": "[encoded data removed]",
      "text/plain": [
       "<Figure size 640x480 with 1 Axes>"
      ]
     },
     "metadata": {},
     "output_type": "display_data"
    }
   ],
   "source": [
    "plt.figure()\n",
    "ax = plt.axes(projection='3d')\n",
    "\n",
    "ax.plot3D(-5, 5, -5, 'blue')\n",
    "for i in range(72):\n",
    "    ax.scatter3D(list6[i][0],list6[i][1],list6[i][2])\n",
    "    plt.suptitle('Workspace analysis for end-effector')\n",
    "    plt.xlabel('X coordinate')\n",
    "    \n",
    "    plt.ylabel('Y coordinate')\n",
    "    ax.set_zlabel('Z coordinate')\n",
    "\n",
    "\n"
   ]
  },
  {
   "cell_type": "code",
   "execution_count": null,
   "id": "d29bb5aa",
   "metadata": {},
   "outputs": [
    {
     "data": {
      "text/plain": [
       "array([1.2246468e-16, 2.0000000e+00, 1.0000000e+00, 1.0000000e+00])"
      ]
     },
     "execution_count": 18,
     "metadata": {},
     "output_type": "execute_result"
    }
   ],
   "source": [
    "j[0]"
   ]
  },
  {
   "cell_type": "markdown",
   "id": "b335542c",
   "metadata": {},
   "source": [
    "# Inverse kinematics using Newton-Raphson method"
   ]
  },
  {
   "cell_type": "markdown",
   "id": "6e5a3744",
   "metadata": {},
   "source": [
    "### Finding the jacobian using geometric method"
   ]
  },
  {
   "cell_type": "code",
   "execution_count": 607,
   "id": "f6dfeee7",
   "metadata": {},
   "outputs": [
    {
     "name": "stdout",
     "output_type": "stream",
     "text": [
      "[[-2.8       ]\n",
      " [ 9.84807753]\n",
      " [ 0.63648178]]\n"
     ]
    }
   ],
   "source": [
    "# Implementing the Newton-Raphson method, now that I have the jacobian matrix\n",
    "posori = np.array([end[0],end[1],end[2]])\n",
    "POSORI = np.expand_dims(posori, axis =0).transpose()\n",
    "print(POSORI)\n",
    "st1 = 9\n",
    "st2 = 9\n",
    "st3 = 9\n",
    "st4 = 9\n",
    "st5 = 9\n",
    "st6 = 9\n",
    "j=0"
   ]
  },
  {
   "cell_type": "code",
   "execution_count": 608,
   "id": "d83eab54",
   "metadata": {},
   "outputs": [
    {
     "name": "stdout",
     "output_type": "stream",
     "text": [
      "Changes made and result is:  18.550574609037927\n",
      "Changes made and result is:  18.550574609037927\n",
      "Changes made and result is:  18.550574609037927\n",
      "Changes made and result is:  18.550574609037927\n",
      "Changes made and result is:  18.550574609037927\n",
      "Changes made and result is:  18.550574609037927\n",
      "Changes made and result is:  18.550574609037927\n",
      "Changes made and result is:  18.550574609037927\n",
      "Changes made and result is:  18.550574609037927\n",
      "Changes made and result is:  18.550574609037927\n",
      "Changes made and result is:  18.550574609037927\n",
      "Changes made and result is:  18.550574609037927\n",
      "Changes made and result is:  18.550574609037927\n",
      "Changes made and result is:  18.550574609037927\n",
      "Changes made and result is:  18.550574609037927\n",
      "Changes made and result is:  18.550574609037927\n",
      "Changes made and result is:  18.550574609037927\n",
      "Changes made and result is:  18.550574609037927\n",
      "Changes made and result is:  18.550574609037927\n",
      "Changes made and result is:  18.550574609037927\n",
      "Changes made and result is:  18.550574609037927\n",
      "Changes made and result is:  18.550574609037927\n",
      "Changes made and result is:  18.550574609037927\n",
      "Changes made and result is:  18.550574609037927\n",
      "Changes made and result is:  18.550574609037927\n",
      "Changes made and result is:  18.550574609037927\n",
      "Changes made and result is:  18.550574609037927\n",
      "Changes made and result is:  18.550574609037927\n",
      "Changes made and result is:  18.550574609037927\n",
      "Changes made and result is:  18.550574609037927\n",
      "Changes made and result is:  18.550574609037927\n",
      "Changes made and result is:  18.550574609037927\n",
      "Changes made and result is:  18.550574609037927\n",
      "Changes made and result is:  18.550574609037927\n",
      "Changes made and result is:  18.550574609037927\n",
      "Changes made and result is:  18.550574609037927\n",
      "Changes made and result is:  18.550574609037927\n",
      "Changes made and result is:  18.550574609037927\n",
      "Changes made and result is:  18.550574609037927\n",
      "Changes made and result is:  18.550574609037927\n",
      "Changes made and result is:  18.550574609037927\n",
      "Changes made and result is:  18.550574609037927\n",
      "Changes made and result is:  18.550574609037927\n",
      "Changes made and result is:  18.550574609037927\n",
      "Changes made and result is:  18.550574609037927\n",
      "Changes made and result is:  18.550574609037927\n",
      "Changes made and result is:  18.550574609037927\n",
      "Changes made and result is:  18.550574609037927\n",
      "Changes made and result is:  18.550574609037927\n",
      "Changes made and result is:  18.550574609037927\n",
      "Changes made and result is:  18.550574609037927\n",
      "Changes made and result is:  18.550574609037927\n",
      "Changes made and result is:  18.550574609037927\n",
      "Changes made and result is:  18.550574609037927\n",
      "Changes made and result is:  18.550574609037927\n",
      "Changes made and result is:  18.550574609037927\n",
      "Changes made and result is:  18.550574609037927\n",
      "Changes made and result is:  18.550574609037927\n",
      "Changes made and result is:  18.550574609037927\n",
      "Changes made and result is:  18.550574609037927\n",
      "Changes made and result is:  18.550574609037927\n",
      "Changes made and result is:  18.550574609037927\n",
      "Changes made and result is:  18.550574609037927\n",
      "Changes made and result is:  18.550574609037927\n",
      "Changes made and result is:  18.550574609037927\n",
      "Changes made and result is:  18.550574609037927\n",
      "Changes made and result is:  18.550574609037927\n",
      "Changes made and result is:  18.550574609037927\n",
      "Changes made and result is:  18.550574609037927\n",
      "Changes made and result is:  18.550574609037927\n",
      "Changes made and result is:  18.550574609037927\n",
      "Changes made and result is:  18.550574609037927\n",
      "Changes made and result is:  18.550574609037927\n",
      "Changes made and result is:  18.550574609037927\n",
      "Changes made and result is:  18.550574609037927\n",
      "Changes made and result is:  18.550574609037927\n",
      "Changes made and result is:  18.550574609037927\n",
      "Changes made and result is:  18.550574609037927\n",
      "Changes made and result is:  18.550574609037927\n",
      "Changes made and result is:  18.550574609037927\n",
      "Changes made and result is:  18.550574609037927\n",
      "Changes made and result is:  18.550574609037927\n",
      "Changes made and result is:  18.550574609037927\n",
      "Changes made and result is:  18.550574609037927\n",
      "Changes made and result is:  18.550574609037927\n",
      "Changes made and result is:  18.550574609037927\n",
      "Changes made and result is:  18.550574609037927\n",
      "Changes made and result is:  18.550574609037927\n",
      "Changes made and result is:  18.550574609037927\n",
      "Changes made and result is:  18.550574609037927\n",
      "Changes made and result is:  18.550574609037927\n",
      "Changes made and result is:  18.550574609037927\n",
      "Changes made and result is:  18.550574609037927\n",
      "Changes made and result is:  18.550574609037927\n",
      "Changes made and result is:  18.550574609037927\n",
      "Changes made and result is:  18.550574609037927\n",
      "Changes made and result is:  18.550574609037927\n",
      "Changes made and result is:  18.550574609037927\n",
      "Changes made and result is:  18.550574609037927\n"
     ]
    }
   ],
   "source": [
    "Error_P = [500]\n",
    "#while Err_theta>3:\n",
    "\n",
    "\n",
    "for i in range(0,100):\n",
    "\n",
    "    test2 = Forward(st1,st2,st3,st4,st5,st6)\n",
    "    end2 = test2._endeff()[:,3]\n",
    "    End2 = np.expand_dims(end2[:3],axis=0).transpose()\n",
    "    #err_theta = np.subtract(POSORI[3:6], OR)\n",
    "    #Err_theta = np.linalg.norm(err_theta)\n",
    "    #Error_theta.insert(i,Err_theta)\n",
    "    \n",
    "    err_P = np.subtract(POSORI[0:3],End2)\n",
    "    Err_P = np.linalg.norm(err_P)\n",
    "    Error_P.insert(i,Err_P)\n",
    "    alpha = 0.1\n",
    "    if (Error_P[i]<Error_P[i-1]): \n",
    "        err_P = np.subtract(POSORI[0:3],End2)\n",
    "        Err_P = np.linalg.norm(err_P)\n",
    "        #Jv = J1[0:3]\n",
    "\n",
    "        #U, D, Vt = np.linalg.svd(Jv, full_matrices=False)\n",
    "        #threshold = 1e-10\n",
    "        #D_inv = np.where(D > threshold, 1 / D, 0)\n",
    "        #Jv_pseudo = Vt.T @ np.diag(D_inv) @ U.T\n",
    "\n",
    "        J1 = test._Jacobian()\n",
    "        Jv = J1[0:3]\n",
    "        Jv_pseudo = np.linalg.pinv(Jv)\n",
    "\n",
    "        ERR = np.expand_dims(Err_P, axis =0).transpose()\n",
    "        norm_error = np.linalg.norm(ERR)\n",
    "\n",
    "        D_theta = Jv_pseudo@err_P\n",
    "\n",
    "        st1 = st1 + alpha*(D_theta[0][0])\n",
    "        st2 = st2 + alpha*(D_theta[1][0])\n",
    "        st3 = st3 + alpha*(D_theta[2][0])\n",
    "        st4 = st4 + alpha*(D_theta[3][0])\n",
    "        st5 = st5 + alpha*(D_theta[4][0])\n",
    "        st6 = st6 + alpha*(D_theta[5][0])\n",
    "        #print(\"st1: \",st1)\n",
    "\n",
    "        if norm_error<0.1:\n",
    "            print(\"\"\"\n",
    "            YESSSSS\n",
    "\n",
    "            \"\"\")\n",
    "            print(\"st1: \",st1)\n",
    "            print(\"st2: \",st2)\n",
    "            print(\"st3: \",st3)\n",
    "            print(\"st4: \",st4)\n",
    "            print(\"st5: \",st5)\n",
    "            print(\"st6: \",st6)\n",
    "            print(\"  \",i,  norm_error)\n",
    "    # Error_theta.insert(i,Err_theta[i])\n",
    "\n",
    "    else:\n",
    "        st1 = st1 + alpha*(D_theta[0][0])/2\n",
    "        st2 = st2 + alpha*(D_theta[1][0])/2\n",
    "        st3 = st3 + alpha*(D_theta[2][0])/2\n",
    "        st4 = st4 + alpha*(D_theta[3][0])/2\n",
    "        st5 = st5 + alpha*(D_theta[4][0])/2\n",
    "        st6 = st6 + alpha*(D_theta[5][0])/2\n",
    "        print(\"Changes made and result is: \", norm_error)\n",
    "        #print(\"st1: \",st1)\n",
    "        if norm_error<0.1:\n",
    "            print(\"\"\"\n",
    "            YESSSSS\n",
    "            \"\"\")\n",
    "            print(\"st1: \",st1)\n",
    "            print(\"st2: \",st2)\n",
    "            print(\"st3: \",st3)\n",
    "            print(\"st4: \",st4)\n",
    "            print(\"st5: \",st5)\n",
    "    # print(\"st6: \",st6)\n",
    "            print(\"  \",i,  norm_error)\n",
    "    # print(\"\"\"\n",
    "    # Something went wrong\n",
    "        #The following entry in the list is best\n",
    "        #\"\"\",i-1)#Error_theta.insert(i,Err_theta[i])\n",
    "        \n",
    "\n",
    "\n",
    "\n"
   ]
  },
  {
   "cell_type": "code",
   "execution_count": 609,
   "id": "c8dde7a2",
   "metadata": {},
   "outputs": [
    {
     "name": "stdout",
     "output_type": "stream",
     "text": [
      "18.550574609037927\n",
      "[[ 0.17635   ]\n",
      " [-9.47769729]\n",
      " [ 0.40322303]]\n",
      "9.0\n",
      "9.090352364555267\n",
      "9.090352364555267\n",
      "8.57472791644933\n",
      "9.090352364555267\n",
      "9.428044863957245\n"
     ]
    }
   ],
   "source": [
    "print(norm_error)\n",
    "err_P\n",
    "print(End2)\n",
    "\n",
    "print(st1)\n",
    "print(st2)\n",
    "print(st3)\n",
    "print(st4)\n",
    "print(st5)\n",
    "print(st6)"
   ]
  },
  {
   "cell_type": "code",
   "execution_count": null,
   "id": "4f8fca69",
   "metadata": {},
   "outputs": [
    {
     "data": {
      "text/plain": [
       "array([-1.73565254, -2.58855601,  9.6834366 ])"
      ]
     },
     "execution_count": 71,
     "metadata": {},
     "output_type": "execute_result"
    }
   ],
   "source": [
    "posori"
   ]
  },
  {
   "cell_type": "code",
   "execution_count": null,
   "id": "1b344f4f",
   "metadata": {},
   "outputs": [
    {
     "data": {
      "text/plain": [
       "1990"
      ]
     },
     "execution_count": 261,
     "metadata": {},
     "output_type": "execute_result"
    }
   ],
   "source": [
    "Min = (min(Error_theta))\n",
    "Error_theta.index(Min)"
   ]
  },
  {
   "cell_type": "markdown",
   "id": "62545b20",
   "metadata": {},
   "source": [
    "# Plotting delta(theta) vs time to inspect the function"
   ]
  },
  {
   "cell_type": "code",
   "execution_count": null,
   "id": "bbe70168",
   "metadata": {},
   "outputs": [
    {
     "data": {
      "text/plain": [
       "array([[-0.08328035],\n",
       "       [ 0.03083463],\n",
       "       [ 0.0191938 ],\n",
       "       [ 0.16821206],\n",
       "       [-0.036094  ],\n",
       "       [ 0.00241978]])"
      ]
     },
     "execution_count": 178,
     "metadata": {},
     "output_type": "execute_result"
    },
    {
     "data": {
      "image/png": "[encoded data removed]",
      "text/plain": [
       "<Figure size 640x480 with 1 Axes>"
      ]
     },
     "metadata": {},
     "output_type": "display_data"
    }
   ],
   "source": [
    "plt.figure()\n",
    "theta = np.array([np.linspace(0,6,6)]).transpose()\n",
    "time = np.linspace(0,30,45)\n",
    "plt.xlabel('thetas')\n",
    "plt.ylabel('Delta_theta')\n",
    "plt.plot(theta,D_theta)\n",
    "D_theta"
   ]
  },
  {
   "cell_type": "code",
   "execution_count": null,
   "id": "36bd617d",
   "metadata": {},
   "outputs": [
    {
     "name": "stdout",
     "output_type": "stream",
     "text": [
      "[[-6.1232340e-17 -1.0000000e+00 -2.4492936e-16  5.5000000e+00]\n",
      " [-6.1232340e-17 -1.2246468e-16  1.0000000e+00 -7.9000000e+00]\n",
      " [ 1.0000000e+00 -6.1232340e-17  6.1232340e-17  2.8000000e+00]\n",
      " [ 0.0000000e+00  0.0000000e+00  0.0000000e+00  1.0000000e+00]]\n"
     ]
    }
   ],
   "source": [
    "T6 = test._endeff()\n",
    "T6_inv = np.linalg.inv(T6)\n",
    "print( T6_inv)\n",
    "\n"
   ]
  },
  {
   "cell_type": "code",
   "execution_count": null,
   "id": "bca8a141",
   "metadata": {},
   "outputs": [],
   "source": [
    "_0T7 = T6@T7\n",
    "_Tbd = T6_inv*_0T7\n",
    "\n",
    "import scipy\n",
    "mod_Vb = scipy.linalg.logm(_Tbd, disp=True)"
   ]
  },
  {
   "cell_type": "code",
   "execution_count": null,
   "id": "856e3d3a",
   "metadata": {},
   "outputs": [],
   "source": [
    "# Now finding jacobian \n",
    "Jx = test._Jacobian()\n",
    "Jx_inv = scipy.linalg.pinv(Jx)"
   ]
  },
  {
   "cell_type": "markdown",
   "id": "f34d9508",
   "metadata": {},
   "source": [
    "#T in the above case is not the transformation matrix, it is the column vector represeting POSORI. Now solving for complete IK\n"
   ]
  },
  {
   "cell_type": "code",
   "execution_count": null,
   "id": "4e785266",
   "metadata": {},
   "outputs": [
    {
     "name": "stdout",
     "output_type": "stream",
     "text": [
      "Desired:  [[ -1.73565254]\n",
      " [ -2.58855601]\n",
      " [  9.6834366 ]\n",
      " [101.35522485]\n",
      " [ -0.47929355]\n",
      " [  2.83406768]]\n",
      "Current:  [[ -2.14682128]\n",
      " [ -2.14285616]\n",
      " [  9.38047936]\n",
      " [ 81.0165694 ]\n",
      " [ -1.9603788 ]\n",
      " [168.67625437]]\n"
     ]
    }
   ],
   "source": [
    "# This is for end-effector-position \n",
    "# oi is from test()\n",
    "\n",
    "Ori = np.expand_dims(oi,axis=0).transpose()\n",
    "POS = np.expand_dims(end[:3],axis=0).transpose()\n",
    "\n",
    "Position_orientation_des = np.append(POS,Ori)\n",
    "Pos_ori_des = np.expand_dims(Position_orientation_des,axis=1)\n",
    "print(\"Desired: \",Pos_ori_des)\n",
    "\n",
    "\n",
    "# Now comes the actual end orientation \n",
    "test99 = Forward(10,10,10,10,10,10)\n",
    "current_ori = test99._ori()\n",
    "current_pos = test99._endeff()[:,3][:3]\n",
    "Jbian = test99._Jacobian()\n",
    "\n",
    "Current_ori = np.expand_dims(current_ori,axis=1)\n",
    "Current_pos = np.expand_dims(current_pos,axis=1)\n",
    "\n",
    "Current_posori = np.append(Current_pos,Current_ori)\n",
    "CPOSORI = np.expand_dims(Current_posori,axis=1)\n",
    "print(\"Current: \",CPOSORI)\n"
   ]
  },
  {
   "cell_type": "code",
   "execution_count": null,
   "id": "19dc81b4",
   "metadata": {},
   "outputs": [
    {
     "name": "stderr",
     "output_type": "stream",
     "text": [
      "/var/folders/_w/16_87lc57jbgqlwj8mps_6_h0000gn/T/ipykernel_3321/192026979.py:6: RuntimeWarning: invalid value encountered in log\n",
      "  Body_twist = np.log(Tbd)\n"
     ]
    }
   ],
   "source": [
    "CPOSORI_inv = np.linalg.pinv(CPOSORI)\n",
    "Tbd = CPOSORI_inv*Pos_ori_des\n",
    "\n",
    "Jbian_psuedo = np.linalg.pinv(Jbian)\n",
    "\n",
    "Body_twist = np.log(Tbd)\n",
    "add = Jbian_psuedo*Body_twist"
   ]
  },
  {
   "cell_type": "code",
   "execution_count": null,
   "id": "53ef587c",
   "metadata": {},
   "outputs": [],
   "source": [
    "\n",
    "\n"
   ]
  },
  {
   "cell_type": "code",
   "execution_count": null,
   "id": "75b30654",
   "metadata": {},
   "outputs": [],
   "source": []
  },
  {
   "cell_type": "code",
   "execution_count": null,
   "id": "a55903e4",
   "metadata": {},
   "outputs": [],
   "source": []
  },
  {
   "cell_type": "code",
   "execution_count": 547,
   "id": "714a1167",
   "metadata": {},
   "outputs": [],
   "source": [
    "x1 = 0\n",
    "x2 = 0\n",
    "x3 = 0\n",
    "x4 = 0\n",
    "x5 = 0\n",
    "x6 = 0\n",
    "\n",
    "T6 = test._endeff()\n",
    "Desired = np.linalg.inv(T6)\n",
    "test99 = Forward(x1,x2,x3,x4,x5,x6)"
   ]
  },
  {
   "cell_type": "code",
   "execution_count": 526,
   "id": "97e310bd",
   "metadata": {},
   "outputs": [
    {
     "name": "stdout",
     "output_type": "stream",
     "text": [
      "x1:  3.0\n",
      "x2:  2.9949090441384274\n",
      "x3:  2.9949090441384274\n",
      "x4:  2.9999789794991494\n",
      "x5:  3.008453128685377\n",
      "x6:  3.013553491520856\n",
      "0.017442578386205113\n",
      "x1:  3.0\n",
      "x2:  2.989761981653521\n",
      "x3:  2.989761981653521\n",
      "x4:  3.0001435612870306\n",
      "x5:  3.017026843581157\n",
      "x6:  3.027136852968047\n",
      "0.016996245710267425\n",
      "x1:  3.0\n",
      "x2:  2.9845586848270003\n",
      "x3:  2.9845586848270003\n",
      "x4:  3.000494084213893\n",
      "x5:  3.0257215655377094\n",
      "x6:  3.0407509896000766\n",
      "0.016557034198422693\n",
      "x1:  3.0\n",
      "x2:  2.9792991081102036\n",
      "x3:  2.9792991081102036\n",
      "x4:  3.0010307615950937\n",
      "x5:  3.0345375568296413\n",
      "x6:  3.0543966755238197\n",
      "0.016125766289864764\n",
      "x1:  3.0\n",
      "x2:  2.973983287435908\n",
      "x3:  2.973983287435908\n",
      "x4:  3.0017536798204016\n",
      "x5:  3.043474921944996\n",
      "x6:  3.068074553454583\n",
      "0.015703357225456373\n",
      "x1:  3.0\n",
      "x2:  2.968611339419798\n",
      "x3:  2.968611339419798\n",
      "x4:  3.002662797188933\n",
      "x5:  3.0525336085929933\n",
      "x6:  3.0817851346786354\n",
      "0.015290821657720804\n",
      "x1:  3.0\n",
      "x2:  2.963183460444797\n",
      "x3:  2.963183460444797\n",
      "x4:  3.003757942985898\n",
      "x5:  3.0617134089437767\n",
      "x6:  3.095528799231408\n",
      "0.014889279851387703\n",
      "x1:  3.0\n",
      "x2:  2.9576999256222147\n",
      "x3:  2.9576999256222147\n",
      "x4:  3.005038816816295\n",
      "x5:  3.0710139611123717\n",
      "x6:  3.1093057963036506\n",
      "0.014499963057115322\n",
      "x1:  3.0\n",
      "x2:  2.9521610876243476\n",
      "x3:  2.9521610876243476\n",
      "x4:  3.006504988209691\n",
      "x5:  3.0804347508978727\n",
      "x6:  3.12311624488696\n",
      "0.014124217507776699\n",
      "x1:  3.0\n",
      "x2:  2.9465673753839314\n",
      "x3:  2.9465673753839314\n",
      "x4:  3.0081558965090225\n",
      "x5:  3.089975113787524\n",
      "x6:  3.1369601346690117\n",
      "0.013763506335479785\n",
      "x1:  3.0\n",
      "x2:  2.940919292656711\n",
      "x3:  2.940919292656711\n",
      "x4:  3.009990851054984\n",
      "x5:  3.099634237233827\n",
      "x6:  3.1508373271875945\n",
      "0.01341940854751219\n",
      "x1:  3.0\n",
      "x2:  2.935217416444283\n",
      "x3:  2.935217416444283\n",
      "x4:  3.0120090316760595\n",
      "x5:  3.109411163211165\n",
      "x6:  3.1647475572511863\n",
      "0.013093614047896003\n",
      "x1:  3.0\n",
      "x2:  2.9294623952753445\n",
      "x3:  2.9294623952753445\n",
      "x4:  3.014209489492592\n",
      "x5:  3.1193047910566807\n",
      "x6:  3.178690434632287\n",
      "0.012787913576069903\n",
      "x1:  3.0\n",
      "x2:  2.923654947344463\n",
      "x3:  2.923654947344463\n",
      "x4:  3.0165911480415275\n",
      "x5:  3.129313880598274\n",
      "x6:  3.1926654460381383\n",
      "0.012504182395224757\n",
      "x1:  3.0\n",
      "x2:  2.9177958585085273\n",
      "x3:  2.9177958585085273\n",
      "x4:  3.0191528047265823\n",
      "x5:  3.1394370555706814\n",
      "x6:  3.2066719573617255\n",
      "0.012244356651004405\n",
      "x1:  3.0\n",
      "x2:  2.911885980142121\n",
      "x3:  2.911885980142121\n",
      "x4:  3.021893132596578\n",
      "x5:  3.1496728073185323\n",
      "x6:  3.220709216214145\n",
      "0.01201040159306078\n",
      "x1:  3.0\n",
      "x2:  2.905926226854098\n",
      "x3:  2.905926226854098\n",
      "x4:  3.0248106824526895\n",
      "x5:  3.160019498783315\n",
      "x6:  3.2347763547375843\n",
      "0.01180427135762624\n",
      "x1:  3.0\n",
      "x2:  2.899917574068744\n",
      "x3:  2.899917574068744\n",
      "x4:  3.0279038852832127\n",
      "x5:  3.1704753687690728\n",
      "x6:  3.248872392696233\n",
      "0.011627860773464239\n",
      "x1:  3.0\n",
      "x2:  2.893861055475978\n",
      "x3:  2.893861055475978\n",
      "x4:  3.0311710550223165\n",
      "x5:  3.181038536479576\n",
      "x6:  3.262996240840485\n",
      "0.011482950651753086\n",
      "x1:  3.0\n",
      "x2:  2.887757760356084\n",
      "x3:  2.887757760356084\n",
      "x4:  3.0346103916271288\n",
      "x5:  3.191707006317719\n",
      "x6:  3.2771467045378886\n",
      "0.01137114915663346\n",
      "x1:  3.0\n",
      "x2:  2.8816088307854875\n",
      "x3:  2.8816088307854875\n",
      "x4:  3.0382199844653512\n",
      "x5:  3.202478672935864\n",
      "x6:  3.2913224876623435\n",
      "0.011293832951446314\n",
      "x1:  3.0\n",
      "x2:  2.8754154587310663\n",
      "x3:  2.8754154587310663\n",
      "x4:  3.0419978160035033\n",
      "x5:  3.2133513265239326\n",
      "x6:  3.305522196731172\n",
      "0.01125209263832208\n",
      "x1:  3.0\n",
      "x2:  2.869178883041433\n",
      "x3:  2.869178883041433\n",
      "x4:  3.0459417657838244\n",
      "x5:  3.224322658320155\n",
      "x6:  3.3197443452778232\n",
      "0.011246687307079624\n",
      "x1:  3.0\n",
      "x2:  2.8629003863444282\n",
      "x3:  2.8629003863444282\n",
      "x4:  3.0500496146759803\n",
      "x5:  3.235390266327769\n",
      "x6:  3.3339873584463016\n",
      "0.01127801260105866\n",
      "x1:  3.0\n",
      "x2:  2.856581291860913\n",
      "x3:  2.856581291860913\n",
      "x4:  3.054319049387765\n",
      "x5:  3.2465516612192062\n",
      "x6:  3.3482495777916705\n",
      "0.011346085554334383\n",
      "x1:  3.0\n",
      "x2:  2.8502229601456097\n",
      "x3:  2.8502229601456097\n",
      "x4:  3.0587476672173275\n",
      "x5:  3.257804272407967\n",
      "x6:  3.362529266269529\n",
      "0.011450547705563046\n",
      "x1:  3.0\n",
      "x2:  2.8438267857663897\n",
      "x3:  2.8438267857663897\n",
      "x4:  3.0633329810277856\n",
      "x5:  3.2691454542669587\n",
      "x6:  3.376824613395894\n",
      "0.011590685963709301\n",
      "x1:  3.0\n",
      "x2:  2.837394193933878\n",
      "x3:  2.837394193933878\n",
      "x4:  3.0680724244237454\n",
      "x5:  3.2805724924711055\n",
      "x6:  3.3911337405577857\n",
      "0.01176546878690143\n",
      "x1:  3.0\n",
      "x2:  2.830926637093719\n",
      "x3:  2.830926637093719\n",
      "x4:  3.072963357107867\n",
      "x5:  3.2920826104409193\n",
      "x6:  3.405454706453622\n",
      "0.011973593797612241\n",
      "x1:  3.0\n",
      "x2:  2.8244255914941045\n",
      "x3:  2.8244255914941045\n",
      "x4:  3.078003070394644\n",
      "x5:  3.3036729758631393\n",
      "x6:  3.419785512641743\n",
      "0.012213542216138728\n",
      "x1:  3.0\n",
      "x2:  2.8178925537414057\n",
      "x3:  2.8178925537414057\n",
      "x4:  3.0831887928576056\n",
      "x5:  3.315340707263902\n",
      "x6:  3.434124109174608\n",
      "0.012483635485374619\n",
      "x1:  3.0\n",
      "x2:  2.8113290373568347\n",
      "x3:  2.8113290373568347\n",
      "x4:  3.0885176960854914\n",
      "x5:  3.327082880609604\n",
      "x6:  3.4484684002957118\n",
      "0.01278209005394478\n",
      "x1:  3.0\n",
      "x2:  2.804736569347027\n",
      "x3:  2.804736569347027\n",
      "x4:  3.0939869005225096\n",
      "x5:  3.3388965359105263\n",
      "x6:  3.462816250175973\n",
      "0.013107067255601585\n",
      "x1:  3.0\n",
      "x2:  2.798116686801335\n",
      "x3:  2.798116686801335\n",
      "x4:  3.099593481367484\n",
      "x5:  3.3507786838023312\n",
      "x6:  3.4771654886662087\n",
      "0.013456716326696993\n",
      "x1:  3.0\n",
      "x2:  2.791470933528373\n",
      "x3:  2.791470933528373\n",
      "x4:  3.1053344745066935\n",
      "x5:  3.362726312080883\n",
      "x6:  3.491513917042402\n",
      "0.013829209640933659\n",
      "x1:  3.0\n",
      "x2:  2.784800856744062\n",
      "x3:  2.784800856744062\n",
      "x4:  3.1112068824552783\n",
      "x5:  3.374736392166225\n",
      "x6:  3.505859313720684\n",
      "0.014222770085811465\n",
      "x1:  3.0\n",
      "x2:  2.778108003822928\n",
      "x3:  2.778108003822928\n",
      "x4:  3.117207680282582\n",
      "x5:  3.386805885472389\n",
      "x6:  3.5201994399195287\n",
      "0.014635691107052578\n",
      "x1:  3.0\n",
      "x2:  2.7713939191239825\n",
      "x3:  2.7713939191239825\n",
      "x4:  3.123333821497193\n",
      "x5:  3.398931749660377\n",
      "x6:  3.5345320452471443\n",
      "0.015066350311511883\n",
      "x1:  3.0\n",
      "x2:  2.764660140901822\n",
      "x3:  2.764660140901822\n",
      "x4:  3.129582243868331\n",
      "x5:  3.4111109447528456\n",
      "x6:  3.5488548731929943\n",
      "0.015513217685213548\n",
      "x1:  3.0\n",
      "x2:  2.75790819831302\n",
      "x3:  2.75790819831302\n",
      "x4:  3.1359498751609602\n",
      "x5:  3.423340439090005\n",
      "x6:  3.5631656665031803\n",
      "0.015974859503671487\n",
      "x1:  3.0\n",
      "x2:  2.751139608527045\n",
      "x3:  2.751139608527045\n",
      "x4:  3.142433638763249\n",
      "x5:  3.4356172151077486\n",
      "x6:  3.577462172420676\n",
      "0.016449938937998468\n",
      "x1:  3.0\n",
      "x2:  2.7443558739502416\n",
      "x3:  2.7443558739502416\n",
      "x4:  3.1490304591860157\n",
      "x5:  3.447938274920247\n",
      "x6:  3.5917421477724765\n",
      "0.01693721423512312\n",
      "x1:  3.0\n",
      "x2:  2.7375584795705183\n",
      "x3:  2.7375584795705183\n",
      "x4:  3.155737267415246\n",
      "x5:  3.460300645690895\n",
      "x6:  3.606003363887153\n",
      "0.017435535205120582\n",
      "x1:  3.0\n",
      "x2:  2.730748890429555\n",
      "x3:  2.7307488904295547\n",
      "x4:  3.1625510061001068\n",
      "x5:  3.4727013847770123\n",
      "x6:  3.6202436113276586\n",
      "0.01794383860392638\n",
      "x1:  3.0\n",
      "x2:  2.723928549228426\n",
      "x3:  2.7239285492284258\n",
      "x4:  3.1694686345604377\n",
      "x5:  3.485137584635403\n",
      "x6:  3.634460704425765\n",
      "0.018461142867551964\n",
      "x1:  3.0\n",
      "x2:  2.7170988740716564\n",
      "x3:  2.717098874071656\n",
      "x4:  3.1764871335992213\n",
      "x5:  3.497606377477511\n",
      "x6:  3.648652485606\n",
      "0.018986542540109227\n",
      "x1:  3.0\n",
      "x2:  2.710261256353779\n",
      "x3:  2.7102612563537782\n",
      "x4:  3.1836035101072193\n",
      "x5:  3.5101049396647\n",
      "x6:  3.6628168294885945\n",
      "0.01951920264400734\n",
      "x1:  3.0\n",
      "x2:  2.7034170587916018\n",
      "x3:  2.7034170587916004\n",
      "x4:  3.1908148014485325\n",
      "x5:  3.5226304958358323\n",
      "x6:  3.6769516467624834\n",
      "0.02005835316578709\n",
      "x1:  3.0\n",
      "x2:  2.696567613604427\n",
      "x3:  2.696567613604426\n",
      "x4:  3.1981180796176143\n",
      "x5:  3.5351803227611325\n",
      "x6:  3.6910548878210965\n",
      "0.020603283772969425\n",
      "x1:  3.0\n",
      "x2:  2.6897142208436775\n",
      "x3:  2.689714220843676\n",
      "x4:  3.205510455159803\n",
      "x5:  3.547751752917885\n",
      "x6:  3.705124546155149\n",
      "0.021153338833448176\n"
     ]
    }
   ],
   "source": [
    "#x1 = np.random.randint(5,50)\n",
    "#x2 = np.random.randint(5,50)\n",
    "#x3 = np.random.randint(5,50)\n",
    "#4 = np.random.randint(5,50)\n",
    "#x5 = np.random.randint(5,50)\n",
    "#x6 = np.random.randint(5,50)\n",
    "\n",
    "T6 = test._endeff()\n",
    "Desired = np.linalg.inv(T6)\n",
    "norm_W = 500\n",
    "\n",
    "#while norm_W>0.03:\n",
    "\n",
    "for i in range(50):\n",
    "    test99 = Forward(x1,x2,x3,x4,x5,x6)\n",
    "\n",
    "    Current = test99._endeff()\n",
    "\n",
    "    # I will get angular velocity first \n",
    "    Current_inv = np.linalg.inv(Current)\n",
    "    MAT = scipy.linalg.logm(Current_inv@Desired)\n",
    "    # For space jacobian \n",
    "    Vs = adjoint(Current)@MAT\n",
    "\n",
    "\n",
    "    Rot = Vs[:3,0:3]\n",
    "\n",
    "    omega = 0.5*(Rot - Rot.T)\n",
    "    W = np.array([omega[2,1],omega[0, 2], omega[1, 0]])\n",
    "    V = Vs[:3,3]\n",
    "    vw  = np.append(V,W)\n",
    "    VW = np.expand_dims(vw,axis=1)\n",
    "    norm_W = np.linalg.norm(W)\n",
    "\n",
    "\n",
    "    Jbian = test99._Jacobian()\n",
    "    Jbian_psuedo = np.linalg.pinv(Jbian)\n",
    "    Additive= Jbian_psuedo@VW\n",
    "    alpha = 0.01\n",
    "\n",
    "    x1 = x1 + alpha*Additive[0][0]\n",
    "    x2 = x2 + alpha*Additive[1][0]\n",
    "    x3 = x3 + alpha*Additive[2][0]\n",
    "    x4 = x4 + alpha*Additive[3][0]\n",
    "    x5 = x5 + alpha*Additive[4][0]\n",
    "    x6 = x6 + alpha*Additive[5][0]\n",
    "\n",
    "    print('x1: ',x1)\n",
    "    print('x2: ',x2)\n",
    "    print('x3: ',x3)\n",
    "    print('x4: ',x4)\n",
    "    print('x5: ',x5)\n",
    "    print('x6: ',x6)\n",
    "    print(norm_W)\n",
    "\n",
    "    \n",
    "\n",
    "\n",
    "\n"
   ]
  },
  {
   "cell_type": "code",
   "execution_count": 527,
   "id": "a54a6f28",
   "metadata": {},
   "outputs": [
    {
     "data": {
      "text/plain": [
       "array([ 0.01965992, -0.00720366,  0.00300973])"
      ]
     },
     "execution_count": 527,
     "metadata": {},
     "output_type": "execute_result"
    }
   ],
   "source": [
    "W"
   ]
  },
  {
   "cell_type": "code",
   "execution_count": 528,
   "id": "348fd4d4",
   "metadata": {},
   "outputs": [
    {
     "data": {
      "text/plain": [
       "array([-7.06739569, -9.1778947 , -0.79550131])"
      ]
     },
     "execution_count": 528,
     "metadata": {},
     "output_type": "execute_result"
    }
   ],
   "source": [
    "test99._endeff()[:,3][:3]"
   ]
  },
  {
   "cell_type": "code",
   "execution_count": 531,
   "id": "d95011df",
   "metadata": {},
   "outputs": [
    {
     "data": {
      "text/plain": [
       "array([-8.24021111, -8.39071529, -1.1       ])"
      ]
     },
     "execution_count": 531,
     "metadata": {},
     "output_type": "execute_result"
    }
   ],
   "source": [
    "test._endeff()[:,3][:3]\n",
    "\n"
   ]
  },
  {
   "cell_type": "markdown",
   "id": "af44ec06",
   "metadata": {},
   "source": [
    "# Now doing inverse dynamics \n"
   ]
  },
  {
   "cell_type": "code",
   "execution_count": 523,
   "id": "9da049ee",
   "metadata": {},
   "outputs": [
    {
     "data": {
      "text/plain": [
       "array([[ -0.],\n",
       "       [-10.],\n",
       "       [-10.],\n",
       "       [  5.],\n",
       "       [-10.],\n",
       "       [ -5.]])"
      ]
     },
     "execution_count": 523,
     "metadata": {},
     "output_type": "execute_result"
    }
   ],
   "source": [
    "def inverse_dynamics(p,F):\n",
    "    # The above are the distances measured in the xyz frame \n",
    "    tau_x = p[1]*F[2] - (p[2]*F[1])\n",
    "    tau_y = (p[2]*F[0]) - (p[0]*F[2])\n",
    "    tau_z = (p[0]*F[1]) - (p[1]*F[0])\n",
    "\n",
    "    #taux = ry*Fz - rz*Fy\n",
    "    #tauy = rz*Fx - rx*Fz \n",
    "    #tauz = rx*Fy - ry*Fx   \n",
    "\n",
    "    return np.array([tau_x,tau_y,tau_z])\n",
    "\n",
    "p = np.array([1,1,1])\n",
    "F = np.array([5,10,0])\n",
    "Force = inverse_dynamics(p,F)\n",
    "\n",
    "\n",
    "Jtoolw = test._Jacobian()[3:6]\n",
    "Force_cartes = np.expand_dims(Force,axis=1)\n",
    "tau_joints = -(Jtoolw.T@Force_cartes)\n",
    "tau_joints\n"
   ]
  },
  {
   "cell_type": "code",
   "execution_count": 600,
   "id": "ec8821a3",
   "metadata": {},
   "outputs": [
    {
     "name": "stdout",
     "output_type": "stream",
     "text": [
      "[0 0 0 0 0 0]\n",
      "[15 14 13 12 11 10]\n"
     ]
    }
   ],
   "source": [
    "f = Forward(15,15,15,15,15,15)\n",
    "i = Forward(0,0,0,0,0,0)\n",
    "\n",
    "initial = np.array([0,0,0,0,0,0])\n",
    "final = np.array([15,14,13,12,11,10])\n",
    "print(initial)\n",
    "print(final)"
   ]
  },
  {
   "cell_type": "markdown",
   "id": "b06a5b7e",
   "metadata": {},
   "source": [
    "# Trajectory generation using cubic polynomial"
   ]
  },
  {
   "cell_type": "code",
   "execution_count": 614,
   "id": "81818365",
   "metadata": {},
   "outputs": [
    {
     "name": "stdout",
     "output_type": "stream",
     "text": [
      "[5 6 7 8 9 3]\n",
      "[15 14 13 12 11 10]\n"
     ]
    }
   ],
   "source": [
    "f = Forward(15,15,15,15,15,15)\n",
    "i = Forward(0,0,0,0,0,0)\n",
    "\n",
    "initial = np.array([5,6,7,8,9,3])\n",
    "final = np.array([15,14,13,12,11,10])\n",
    "print(initial)\n",
    "print(final)\n",
    "tf = 5\n",
    "t0 = 0\n",
    "num_points = 100\n",
    "\n",
    "T = 5\n",
    "t = np.linspace(0,T,100)\n",
    "a = initial \n",
    "a1 =0\n",
    "a2 = (3/tf**2)*(final -initial)\n",
    "a3 = (-2/tf**3)*(final -initial)\n",
    "#trajectory = a + a1*t + a2*t**2 + a3*t**3\n",
    "\n",
    "joint_trajectory = np.zeros((num_points, len(initial))) \n",
    "max_acc = []\n",
    "for i in range(len(initial)):\n",
    "        # Calculate coefficients for cubic polynomial\n",
    "        a = initial[i]\n",
    "        b = 0\n",
    "        c = 3 * (final[i] - initial[i]) / (T**2)\n",
    "        d = 2 * (initial[i] - final[i]) / (T**3)\n",
    "        max_acc.insert(i,(6/(T**2))*(final[i]-initial[i])) # maximum accleration\n",
    "\n",
    "        # Evaluate cubic polynomial for each time point\n",
    "        joint_trajectory[:, i] = a + b * t+ c * t**2 + d * t**3\n",
    "\n",
    "\n"
   ]
  },
  {
   "cell_type": "code",
   "execution_count": 612,
   "id": "7599528e",
   "metadata": {},
   "outputs": [
    {
     "data": {
      "text/plain": [
       "Text(0, 0.5, 'thetas')"
      ]
     },
     "execution_count": 612,
     "metadata": {},
     "output_type": "execute_result"
    },
    {
     "data": {
      "image/png": "[encoded data removed]",
      "text/plain": [
       "<Figure size 1000x600 with 1 Axes>"
      ]
     },
     "metadata": {},
     "output_type": "display_data"
    }
   ],
   "source": [
    "plt.figure(figsize=(10, 6))\n",
    "for i in range(joint_trajectory.shape[1]):\n",
    "    plt.plot(t, joint_trajectory[:, i], label=f'Joint {i+1}')\n",
    "\n",
    "plt.xlabel('time')\n",
    "plt.ylabel('thetas')\n"
   ]
  },
  {
   "cell_type": "code",
   "execution_count": 613,
   "id": "af72a667",
   "metadata": {},
   "outputs": [
    {
     "data": {
      "text/plain": [
       "[2.4, 1.92, 1.44, 0.96, 0.48, 1.68]"
      ]
     },
     "execution_count": 613,
     "metadata": {},
     "output_type": "execute_result"
    }
   ],
   "source": [
    "max_acc"
   ]
  },
  {
   "cell_type": "code",
   "execution_count": 580,
   "id": "68a2e311",
   "metadata": {},
   "outputs": [],
   "source": [
    "trajectory_points_x = np.polyval([a[0], a1, a2[0], a3[0]], t)\n",
    "trajectory_points_y = np.polyval([a[1], a1, a2[1], a3[1]], t)\n",
    "trajectory_points_z = np.polyval([a[2], a1, a2[1], a3[2]], t)"
   ]
  },
  {
   "cell_type": "code",
   "execution_count": 581,
   "id": "65d49e90",
   "metadata": {},
   "outputs": [
    {
     "data": {
      "image/png": "[encoded data removed]",
      "text/plain": [
       "<Figure size 1000x800 with 1 Axes>"
      ]
     },
     "metadata": {},
     "output_type": "display_data"
    }
   ],
   "source": [
    "fig = plt.figure(figsize=(10, 8))\n",
    "ax = fig.add_subplot(111, projection='3d')\n",
    "\n",
    "ax.plot(trajectory_points_x, trajectory_points_y, trajectory_points_z, label='Trajectory')\n",
    "\n",
    "ax.set_xlabel('X')\n",
    "ax.set_ylabel('Y')\n",
    "ax.set_zlabel('Z')\n",
    "ax.set_title('3D Cubic Polynomial Trajectory')\n",
    "\n",
    "plt.legend()\n",
    "plt.show()"
   ]
  },
  {
   "cell_type": "code",
   "execution_count": null,
   "id": "002d7cd5",
   "metadata": {},
   "outputs": [
    {
     "name": "stdout",
     "output_type": "stream",
     "text": [
      "Requirement already satisfied: pybullet in /Users/abhimanyusuthar/anaconda3/envs/int1/lib/python3.11/site-packages (3.2.6)\n",
      "Note: you may need to restart the kernel to use updated packages.\n"
     ]
    }
   ],
   "source": [
    "pip install pybullet"
   ]
  },
  {
   "cell_type": "code",
   "execution_count": 1,
   "id": "0347c563",
   "metadata": {},
   "outputs": [
    {
     "name": "stderr",
     "output_type": "stream",
     "text": [
      "pybullet build time: Dec 16 2023 14:31:28\n"
     ]
    },
    {
     "name": "stdout",
     "output_type": "stream",
     "text": [
      "Version = 4.1 Metal - 88\n",
      "Vendor = Apple\n",
      "Renderer = Apple M2 Pro\n",
      "b3Printf: Selected demo: Physics Server\n",
      "startThreads creating 1 threads.\n",
      "starting thread 0\n",
      "started thread 0 \n",
      "MotionThreadFunc thread started\n"
     ]
    }
   ],
   "source": [
    "import pybullet as p\n",
    "\n",
    "#\n",
    "p.connect(p.GUI)\n",
    "\n",
    "robot_urdf_path = \"/Users/abhimanyusuthar/anaconda3/Robotics/gitrepo/bullet3/examples/pybullet/gym/pybullet_data/xarm/xarm6_robot.urdf\"\n",
    "robot_id = p.loadURDF(robot_urdf_path, useFixedBase=True)\n",
    "\n"
   ]
  },
  {
   "cell_type": "code",
   "execution_count": 82,
   "id": "aa4ab317",
   "metadata": {},
   "outputs": [],
   "source": [
    "import time\n",
    "initial_joint_angles = [m.radians(0), m.radians(30), m.radians(0), m.radians(-180), m.radians(0), m.radians(90),m.radians(0)]\n",
    "for i in range(0,p.getNumJoints(robot_id)-1):\n",
    "    p.resetJointState(robot_id, i, initial_joint_angles[i])\n",
    "\n",
    "for i in range(500):\n",
    "    p.stepSimulation()\n",
    "    time.sleep(1/100) "
   ]
  },
  {
   "cell_type": "code",
   "execution_count": 14,
   "id": "5f4174d8",
   "metadata": {},
   "outputs": [
    {
     "data": {
      "text/plain": [
       "7"
      ]
     },
     "execution_count": 14,
     "metadata": {},
     "output_type": "execute_result"
    }
   ],
   "source": [
    "p.getNumJoints(robot_id)"
   ]
  },
  {
   "cell_type": "code",
   "execution_count": 44,
   "id": "5d0f8417",
   "metadata": {},
   "outputs": [],
   "source": [
    "# home configuration\n",
    "initial_joint_angles = [0, 0, 0, 10, 0, -5,0]"
   ]
  },
  {
   "cell_type": "code",
   "execution_count": null,
   "id": "7d6afe63",
   "metadata": {},
   "outputs": [],
   "source": []
  }
 ],
 "metadata": {
  "kernelspec": {
   "display_name": "Python 3 (ipykernel)",
   "language": "python",
   "name": "python3"
  },
  "language_info": {
   "codemirror_mode": {
    "name": "ipython",
    "version": 3
   },
   "file_extension": ".py",
   "mimetype": "text/x-python",
   "name": "python",
   "nbconvert_exporter": "python",
   "pygments_lexer": "ipython3",
   "version": "3.11.5"
  }
 },
 "nbformat": 4,
 "nbformat_minor": 5
}
